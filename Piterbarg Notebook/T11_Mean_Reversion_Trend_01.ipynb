{
 "cells": [
  {
   "attachments": {},
   "cell_type": "markdown",
   "metadata": {},
   "source": [
    "## Investigate various mean-reversion tests"
   ]
  },
  {
   "cell_type": "code",
   "execution_count": 1,
   "metadata": {},
   "outputs": [],
   "source": [
    "%load_ext autoreload\n",
    "%autoreload 2"
   ]
  },
  {
   "cell_type": "code",
   "execution_count": 2,
   "metadata": {},
   "outputs": [],
   "source": [
    "import numpy as np\n",
    "import pandas as pd\n",
    "import matplotlib.pyplot as plt\n",
    "import matplotlib.ticker as mtick\n",
    "from statsmodels.tsa.stattools import adfuller"
   ]
  },
  {
   "cell_type": "code",
   "execution_count": 3,
   "metadata": {},
   "outputs": [],
   "source": [
    "%matplotlib widget\n",
    "# %matplotlib auto"
   ]
  },
  {
   "attachments": {},
   "cell_type": "markdown",
   "metadata": {},
   "source": [
    "### Simulate mean-reverting paths"
   ]
  },
  {
   "cell_type": "code",
   "execution_count": 4,
   "metadata": {},
   "outputs": [],
   "source": [
    "def simulate_paths(npaths, ndays, x0, vol, mrspeed, mrlevel = None, seed = 0):\n",
    "    if mrlevel is None:\n",
    "        mrlevel = x0\n",
    "\n",
    "    dt = 1.0/250\n",
    "    sqrtdt = np.sqrt(dt)\n",
    "\n",
    "    np.random.seed(seed = seed)\n",
    "    dW = np.random.normal(size = (npaths,ndays-1))*sqrtdt\n",
    "\n",
    "    x = np.zeros((npaths, ndays))\n",
    "    x[:,0] = x0\n",
    "    for d in np.arange(ndays-1):\n",
    "        x[:,d+1] = x[:,d] + mrspeed*(mrlevel - x[:,d]) * dt + vol * dW[:,d]\n",
    "\n",
    "    return x\n"
   ]
  },
  {
   "attachments": {},
   "cell_type": "markdown",
   "metadata": {},
   "source": [
    "### Change mr speed to see how simulated paths look"
   ]
  },
  {
   "cell_type": "code",
   "execution_count": null,
   "metadata": {},
   "outputs": [],
   "source": [
    "annvol = 0.01\n",
    "rev = 0.5\n",
    "npaths_to_use = 10000\n",
    "nyears = 1\n",
    "seed = 314\n",
    "paths_to_plot = simulate_paths(npaths = npaths_to_use, ndays = nyears*250, x0 = 0.0, vol = annvol, mrspeed = rev, seed=seed)\n",
    "\n",
    "plt.figure()\n",
    "plt.plot(paths_to_plot[:10,:].T)\n",
    "plt.show()"
   ]
  },
  {
   "attachments": {},
   "cell_type": "markdown",
   "metadata": {},
   "source": [
    "### A few (equivalent) ways to calculate the regression coef of dx on x per path"
   ]
  },
  {
   "cell_type": "code",
   "execution_count": 6,
   "metadata": {},
   "outputs": [],
   "source": [
    "def regress_dx_on_x(paths):\n",
    "    '''\n",
    "    calculate regr coeff dx ~ mean + slope x for each path (ie row of the paths matrix)\n",
    "    annualize the results\n",
    "    '''\n",
    "    dt = 1.0/250\n",
    "\n",
    "    dx = np.diff(paths, axis=1)\n",
    "    x = paths[:,:-1]\n",
    "\n",
    "    mean_x = x.mean(axis=1).reshape(-1,1)\n",
    "    mean_dx = dx.mean(axis=1).reshape(-1,1)\n",
    "\n",
    "    cov_x_dx = ((x - mean_x)*(dx - mean_dx)).sum(axis=1)\n",
    "    var_x = ((x-mean_x)**2).sum(axis=1)\n",
    "    \n",
    "    slope = (cov_x_dx/var_x)/dt\n",
    "\n",
    "    # slope_z_score = (slope - slope.mean())/slope.std()\n",
    "    slope_z_score = (slope - 0)/slope.std()\n",
    "    return slope, slope_z_score\n"
   ]
  },
  {
   "cell_type": "code",
   "execution_count": 7,
   "metadata": {},
   "outputs": [],
   "source": [
    "def regress_dx_on_x_v2(paths):\n",
    "    '''\n",
    "    calculate regr coeff dx ~ mean + slope x for each path (ie row of the paths matrix)\n",
    "    annualize the results\n",
    "    '''\n",
    "    dt = 1.0/250\n",
    "\n",
    "    dx = np.diff(paths, axis=1)\n",
    "    x = paths[:,:-1]\n",
    "\n",
    "    npaths = x.shape[0]\n",
    "    slope = np.zeros(x.shape[0])\n",
    "    for n in range(npaths):\n",
    "        cov_x_dx = np.cov(dx[n,:],x[n,:])[0,1]\n",
    "        var_x = x[n,:].var()\n",
    "        slope[n] = cov_x_dx/var_x/dt\n",
    "\n",
    "    # slope_z_score = (slope - slope.mean())/slope.std()\n",
    "    slope_z_score = (slope - 0)/slope.std()\n",
    "    return slope, slope_z_score"
   ]
  },
  {
   "cell_type": "code",
   "execution_count": 8,
   "metadata": {},
   "outputs": [],
   "source": [
    "def regress_dx_on_x_v3(paths):\n",
    "    '''\n",
    "    calculate regr coeff dx ~ mean + slope x for each path (ie row of the paths matrix)\n",
    "    annualize the results\n",
    "    '''\n",
    "    dt = 1.0/250\n",
    "\n",
    "    dx = np.diff(paths, axis=1)\n",
    "    x = paths[:,:-1]\n",
    "\n",
    "    npaths = x.shape[0]\n",
    "    slope = np.zeros(x.shape[0])\n",
    "    const_coef = np.ones(x.shape[1])\n",
    "    for n in range(npaths):\n",
    "        lhs = np.vstack((const_coef, x[n,:])).T\n",
    "        sol = np.linalg.lstsq(lhs, dx[n,:])\n",
    "        slope[n] = sol[0][1]/dt\n",
    "\n",
    "    # slope_z_score = (slope - slope.mean())/slope.std()\n",
    "    slope_z_score = (slope - 0)/slope.std()\n",
    "    return slope, slope_z_score"
   ]
  },
  {
   "attachments": {},
   "cell_type": "markdown",
   "metadata": {},
   "source": [
    "### Plot the regression coef and its z-score (for deviation from 0) per path"
   ]
  },
  {
   "cell_type": "code",
   "execution_count": null,
   "metadata": {},
   "outputs": [],
   "source": [
    "\n",
    "# test_res = regress_dx_on_x(paths = paths_to_plot)\n",
    "# test_res = regress_dx_on_x_v2(paths = paths_to_plot)\n",
    "test_res = regress_dx_on_x_v3(paths = paths_to_plot)\n",
    "\n",
    "plt.figure()\n",
    "plt.plot(test_res[0][:1000], label = 'slope')\n",
    "plt.legend(loc = 'best')\n",
    "plt.show()\n",
    "\n",
    "\n",
    "plt.figure()\n",
    "plt.plot(test_res[1][:1000], label = 'zscore for slope')\n",
    "plt.legend(loc = 'best')\n",
    "plt.show()\n",
    "\n",
    "    "
   ]
  },
  {
   "cell_type": "code",
   "execution_count": null,
   "metadata": {},
   "outputs": [],
   "source": [
    "test_res[0].mean(),test_res[1].mean()"
   ]
  },
  {
   "attachments": {},
   "cell_type": "markdown",
   "metadata": {},
   "source": [
    "### Compare empirically estimated daily stdev vs thoretical Brownian motion and theoretical mean-rev"
   ]
  },
  {
   "cell_type": "code",
   "execution_count": null,
   "metadata": {},
   "outputs": [],
   "source": [
    "dt = 1.0/250\n",
    "paths_stdev = paths_to_plot.std(axis=0)\n",
    "ts = np.arange(len(paths_stdev))*dt\n",
    "\n",
    "plt.figure()\n",
    "plt.plot(paths_stdev, label = 'actual stdev')\n",
    "plt.plot(np.sqrt(ts)*annvol, label = 'BM expected stdev')\n",
    "plt.plot(np.sqrt((1-np.exp(-2*rev*ts))/(2*rev))*annvol, label = 'MR expected stdev')\n",
    "plt.legend(loc = 'best')\n",
    "plt.show()"
   ]
  },
  {
   "cell_type": "code",
   "execution_count": null,
   "metadata": {},
   "outputs": [],
   "source": [
    "# same but as var not stdev\n",
    "plt.figure()\n",
    "plt.plot(paths_stdev**2, label = 'actual var')\n",
    "plt.plot(ts*annvol**2, label = 'BM expected var')\n",
    "plt.plot((1-np.exp(-2*rev*ts))/(2*rev)*annvol**2, label = 'MR expected var')\n",
    "plt.legend(loc = 'best')\n",
    "plt.show()"
   ]
  },
  {
   "cell_type": "code",
   "execution_count": null,
   "metadata": {},
   "outputs": [],
   "source": [
    "# now fitting a power (linear in logs) function to estimate the Hurst exponent\n",
    "start_idx = 10\n",
    "poly = np.polyfit(np.log(ts[start_idx:]), np.log(paths_stdev[start_idx:]), 1)\n",
    "print(poly[0])\n",
    "powerfit = np.polyval(poly, np.log(0.0001 + ts))\n",
    "\n",
    "plt.figure()\n",
    "plt.plot(np.log(ts[start_idx:]), np.log(paths_stdev[start_idx:]), '.', label = 'log log stdev')\n",
    "plt.plot(np.log(ts[start_idx:]), np.log(np.sqrt((1-np.exp(-2*rev*ts[start_idx:]))/(2*rev))*annvol), label = 'log log MR expected stdev')\n",
    "plt.plot(np.log(ts[start_idx:]), powerfit[start_idx:], label = f'log log power fit, exp = {poly[0]}')\n",
    "plt.xlabel('log of time')\n",
    "plt.ylabel('log of daily stdev')\n",
    "plt.legend(loc = 'best')\n",
    "plt.show()"
   ]
  },
  {
   "attachments": {},
   "cell_type": "markdown",
   "metadata": {},
   "source": [
    "### Mean rev speed to Hurst exponent via averaged expansions"
   ]
  },
  {
   "cell_type": "code",
   "execution_count": null,
   "metadata": {},
   "outputs": [],
   "source": [
    "# Mean reversion to Hurst exponent analytically\n",
    "def mean_rev_to_hurst(mrspeed, lag_expansion_pts = None):\n",
    "    '''\n",
    "    Calculate Hurst exponent analytically from mean reversion speed. see my notes. depends\n",
    "    on the expansion points that could be provided -- we then take a simple average. Otherwise we use a sensible default\n",
    "    See my notes (L3_...)\n",
    "    '''\n",
    "    if abs(mrspeed) < 1e-4:\n",
    "        mrspeed = 1e-4\n",
    "\n",
    "    if lag_expansion_pts is None:\n",
    "        lag_expansion_pts = [1./52, 1./12, 1./4, 1./2, 1.]\n",
    "    hs = np.zeros(len(lag_expansion_pts))\n",
    "    for idx, tau0 in enumerate(lag_expansion_pts):\n",
    "        exptau0 = np.exp(-2*mrspeed*tau0)\n",
    "        hs[idx] = mrspeed * tau0 * exptau0 / (1-exptau0)\n",
    "    return np.mean(hs)\n",
    "\n",
    "# test\n",
    "show_plot = True\n",
    "if show_plot:\n",
    "    revs = np.linspace(-1,1,101, endpoint=True)\n",
    "    h_revs = [mean_rev_to_hurst(r) for r in revs]\n",
    "    plt.figure()\n",
    "    plt.plot(revs, h_revs, label = 'Hurst exponent')\n",
    "    plt.xlabel('mean reversion speed')\n",
    "    plt.ylabel('Hurst exponent')\n",
    "    plt.title('Analytical calc of Hurst exponent from mean reversion speed')\n",
    "    plt.legend(loc='best')\n",
    "    plt.show()\n"
   ]
  },
  {
   "attachments": {},
   "cell_type": "markdown",
   "metadata": {},
   "source": [
    "### Investigate the ADF method for detecting mean-reversion"
   ]
  },
  {
   "cell_type": "code",
   "execution_count": 15,
   "metadata": {},
   "outputs": [],
   "source": [
    "nadf = 1000\n",
    "adf_max_lag = 1\n",
    "adf_regr_params = 'c' # 'ct'\n",
    "adf_stat = np.zeros(nadf)\n",
    "adf_pval = np.zeros(nadf)\n",
    "for n in range(nadf):\n",
    "    res = adfuller(paths_to_plot[n,:], maxlag=adf_max_lag, regression=adf_regr_params)\n",
    "    adf_stat[n] = res[0]\n",
    "    adf_pval[n] = res[1]"
   ]
  },
  {
   "cell_type": "code",
   "execution_count": null,
   "metadata": {},
   "outputs": [],
   "source": [
    "plt.figure()\n",
    "plt.plot(adf_stat, label = 'adf stat')\n",
    "plt.title('adf stat')\n",
    "plt.legend(loc = 'best')\n",
    "plt.show()\n",
    "\n",
    "plt.figure()\n",
    "plt.plot(adf_pval, label = 'adf pval')\n",
    "plt.plot(np.ones_like(adf_pval[:nadf])*0.05, label = '0.05 treshold')\n",
    "plt.title('adf pval')\n",
    "plt.legend(loc = 'best')\n",
    "plt.show()\n",
    "print(sum(adf_pval < 0.05)/len(adf_pval))"
   ]
  },
  {
   "cell_type": "code",
   "execution_count": null,
   "metadata": {},
   "outputs": [],
   "source": [
    "pathnum = 1\n",
    "paths = paths_to_plot\n",
    "dx = np.diff(paths, axis=1)\n",
    "x = paths[:,:-1]\n",
    "\n",
    "dxfitcoefs = np.polyfit(x[pathnum,:], dx[pathnum,:],deg = 1)\n",
    "dxfit = np.polyval(dxfitcoefs, x[pathnum,:])\n",
    "\n",
    "plt.figure()\n",
    "plt.plot(x[pathnum,:], dx[pathnum,:], '.', label = 'dx vs x')\n",
    "plt.plot(x[pathnum,:], dxfit, '-', label = 'fit to dx vs x')\n",
    "plt.title(f'mr={rev}')\n",
    "plt.legend(loc = 'best')\n",
    "plt.show()\n",
    "\n",
    "print(dxfitcoefs[0]/dt)\n",
    "print('adf p-value=', adfuller(paths[pathnum,:])[1])"
   ]
  },
  {
   "attachments": {},
   "cell_type": "markdown",
   "metadata": {},
   "source": [
    "### Cross-sectional (all paths at once for a given time) regression of dx on x\n",
    "We expect to recover the mean reversion speed we put into simulation, with a high degree of precision -- and we actually do\n",
    "Thus, this is mostly a consistewncy test. But also demonstrates how much better the cross-sectional regression is vs time-based one\n",
    "Of course we annualize the results and sign them to be consistent with the conventions of the simuation"
   ]
  },
  {
   "cell_type": "code",
   "execution_count": 18,
   "metadata": {},
   "outputs": [],
   "source": [
    "def regress_dx_on_x_crosssec_v1(paths):\n",
    "    '''\n",
    "    calculate regr coeff dx ~ mean + slope x for each time \n",
    "    THIS IS A CROSS-SECTIONAL REGRESSION CALCULATION\n",
    "    so we expect to recover the mean reversion speed we put into simulation, with a high degree of precision -- and we actually do\n",
    "    Thus, this is mostly a consistewncy test. But also demonstrates how much better the cross-sectional regression is vs time-based one\n",
    "    Of course we annualize the results and sign them to be consistent with the conventions of the simuation\n",
    "    '''\n",
    "    dt = 1.0/250\n",
    "\n",
    "    dx = np.diff(paths, axis=1)\n",
    "    x = paths[:,:-1]\n",
    "\n",
    "    mean_x = x.mean(axis=0).reshape(1,-1)\n",
    "    mean_dx = dx.mean(axis=0).reshape(1,-1)\n",
    "\n",
    "    cov_x_dx = ((x - mean_x)*(dx - mean_dx)).sum(axis=0)\n",
    "    var_x = ((x-mean_x)**2).sum(axis=0)\n",
    "    \n",
    "    slope = -(cov_x_dx/var_x)/dt\n",
    "\n",
    "    # slope_z_score = (slope - slope.mean())/slope.std()\n",
    "    slope_z_score = (slope - 0)/slope[1:].std()\n",
    "    return slope[1:], slope_z_score[1:]"
   ]
  },
  {
   "cell_type": "code",
   "execution_count": null,
   "metadata": {},
   "outputs": [],
   "source": [
    "test_res_xsec = regress_dx_on_x_crosssec_v1(paths = paths_to_plot)\n"
   ]
  },
  {
   "cell_type": "code",
   "execution_count": null,
   "metadata": {},
   "outputs": [],
   "source": [
    "plt.figure()\n",
    "plt.plot(test_res_xsec[0][10:], label = 'mrspeed estimate per time point')\n",
    "plt.plot(test_res_xsec[0].mean() * np.ones_like(test_res_xsec[0]), label = 'average')\n",
    "plt.legend(loc = 'best')\n",
    "\n",
    "print(np.nanmean(test_res_xsec[0]))"
   ]
  },
  {
   "cell_type": "code",
   "execution_count": null,
   "metadata": {},
   "outputs": [],
   "source": [
    "dx = np.diff(paths_to_plot, axis=1)\n",
    "x = paths_to_plot[:,:-1]\n",
    "\n",
    "timeidx = 100\n",
    "\n",
    "dxfitcoefs_xf = np.polyfit(x[:,timeidx], dx[:,timeidx], deg = 1)\n",
    "dxfit_xf = np.polyval(dxfitcoefs_xf, x[:,timeidx])\n",
    "\n",
    "pltstep = 20\n",
    "plt.figure()\n",
    "plt.plot(x[::pltstep,timeidx], dx[::pltstep, timeidx],'.',label = 'simulated')\n",
    "plt.plot(x[::pltstep,timeidx], dxfit_xf[::pltstep],'_',label='linear fit')\n",
    "annslope = dxfitcoefs_xf[0]/dt\n",
    "plt.title(f'Cross-section regression, time={timeidx*dt}y, mrspeed(ann) = {annslope:.2f}')\n",
    "plt.xlabel('state x')\n",
    "plt.ylabel('increment dx')\n",
    "plt.legend(loc='best')\n",
    "plt.show()\n",
    "# print(annslope)"
   ]
  },
  {
   "attachments": {},
   "cell_type": "markdown",
   "metadata": {},
   "source": [
    "### Investigate the Hurst exponent method for MR"
   ]
  },
  {
   "cell_type": "code",
   "execution_count": null,
   "metadata": {},
   "outputs": [],
   "source": [
    "pathidx = 0\n",
    "plot_lags = np.array([1, 5,10,20])\n",
    "tau = [np.std(np.subtract(paths_to_plot[pathidx,lag:], paths_to_plot[pathidx,:-lag])) for lag in plot_lags]\n",
    "poly = np.polyfit(np.log(plot_lags), np.log(tau), 1)\n",
    "tau_fit = np.polyval(poly, np.log(plot_lags))\n",
    "plt.figure()\n",
    "plt.plot(np.log(plot_lags), np.log(tau), 'o', label = 'realized vol vs lag actual')\n",
    "plt.plot(np.log(plot_lags), tau_fit, '-', label = 'realized vol vs lag fit')\n",
    "plt.xlabel('log(lag)')\n",
    "plt.ylabel('log(realized vol)')\n",
    "plt.legend(loc='best')\n",
    "plt.show()\n",
    "print(f'Hurst={poly[0]}')"
   ]
  },
  {
   "cell_type": "code",
   "execution_count": 23,
   "metadata": {},
   "outputs": [],
   "source": [
    "def calc_hurst_exponent(xs, lags = None):\n",
    "    \"\"\"\n",
    "    adapted from https://www.quantstart.com/articles/Basics-of-Statistical-Mean-Reversion-Testing/\n",
    "    Returns the Hurst Exponent of the time series vector xs\n",
    "    In our version xs is npaths x ndays array\n",
    "    and output is an npaths array\n",
    "\n",
    "    Parameters\n",
    "    ----------\n",
    "    xs : `numpy.array`\n",
    "        Time series upon which the Hurst Exponent will be calculated\n",
    "\n",
    "    Returns\n",
    "    -------\n",
    "    'float'\n",
    "        The Hurst Exponent from the poly fit output\n",
    "    \"\"\"\n",
    "    # Create the range of lag values\n",
    "    if lags is None:\n",
    "        lags = [1, 5,10,20]\n",
    "    lags = np.asarray(lags)\n",
    "\n",
    "    npaths = xs.shape[0]\n",
    "    hs = np.zeros(npaths)\n",
    "    for pathidx in range(npaths):\n",
    "        # Calculate the array of the variances of the lagged differences\n",
    "        vols = [np.std(np.subtract(xs[pathidx,lag:], xs[pathidx,:-lag])) for lag in lags]\n",
    "\n",
    "        # Use a linear fit to estimate the Hurst Exponent\n",
    "        poly = np.polyfit(np.log(lags), np.log(vols), 1)\n",
    "#         poly = np.polyfit(lags, np.log(vols), 1)\n",
    "        hs[pathidx] = poly[0]\n",
    "\n",
    "    # Return the Hurst exponents from the polyfit output per path\n",
    "    return hs\n",
    "hursts = calc_hurst_exponent(paths_to_plot)"
   ]
  },
  {
   "cell_type": "code",
   "execution_count": null,
   "metadata": {},
   "outputs": [],
   "source": [
    "plt.figure()\n",
    "plt.plot(hursts)\n",
    "plt.plot(hursts.mean()*np.ones_like(hursts))\n",
    "plt.show()\n",
    "print(hursts.mean())"
   ]
  },
  {
   "attachments": {},
   "cell_type": "markdown",
   "metadata": {},
   "source": [
    "### Calculate and plot the distribution of the Hurst exponent for Browniam motion (mr speed = 0)"
   ]
  },
  {
   "cell_type": "code",
   "execution_count": null,
   "metadata": {},
   "outputs": [],
   "source": [
    "annvol = 0.01\n",
    "bm_rev = 0.0 ## Brownian motion\n",
    "n_bm_paths = 10000\n",
    "nyears = 3\n",
    "seed = 314\n",
    "bm_paths = simulate_paths(npaths = n_bm_paths, ndays = nyears*250, x0 = 0.0, vol = annvol, mrspeed = bm_rev, seed=seed)\n",
    "bm_hursts = calc_hurst_exponent(bm_paths)\n",
    "print(f'Average of Hurst exponents over all paths: {bm_hursts.mean()}')"
   ]
  },
  {
   "cell_type": "code",
   "execution_count": null,
   "metadata": {},
   "outputs": [],
   "source": [
    "\n",
    "plt.figure()\n",
    "\n",
    "# Create histogram\n",
    "nbins = 40\n",
    "n, bins, patches = plt.hist(bm_hursts, bins=nbins, density = True)\n",
    "\n",
    "# Find 5th percentile\n",
    "pct5 = np.percentile(bm_hursts, 5)\n",
    "\n",
    "# Convert raw frequency to percentage\n",
    "# n = n / np.sum(n) * 100\n",
    "\n",
    "# Mark 5th percentile on plot\n",
    "plt.axvline(x=pct5, color='red', linestyle='dashed', label = '5% pct')\n",
    "plt.axhline(y=5, color='red', linestyle='dotted', label = '5%')\n",
    "plt.text(pct5, max(n), f' 5% pct = {pct5:.2f} ', ha='right', va='top')\n",
    "\n",
    "# Set y-axis as percentage\n",
    "plt.gca().yaxis.set_major_formatter(mtick.PercentFormatter())\n",
    "\n",
    "# add empirical CDF\n",
    "plt.plot(np.sort(bm_hursts)[:-n_bm_paths//2], (np.arange(n_bm_paths)/n_bm_paths*100)[:-n_bm_paths//2], label = 'Empirical CDF')\n",
    "\n",
    "# Add axis labels and title\n",
    "plt.xlabel('Values')\n",
    "plt.ylabel('Density')\n",
    "plt.title('Histogram and empirical CDF of Hurst exponents per path')\n",
    "plt.legend(loc = 'best')\n",
    "\n",
    "# Show plot\n",
    "plt.show()\n"
   ]
  },
  {
   "attachments": {},
   "cell_type": "markdown",
   "metadata": {},
   "source": [
    "### Investigate ADF nd the Hurst exponent methods across a range of MR speeds"
   ]
  },
  {
   "cell_type": "code",
   "execution_count": null,
   "metadata": {},
   "outputs": [],
   "source": [
    "mrspeeds = [32,16,8,4,2,1,0.5,0.25,0.125,0,-0.125,-0.25, -0.5, -1,-2,-4]\n",
    "annvol = 0.01\n",
    "npaths_to_use = 10000\n",
    "nyears = 3\n",
    "seed = 314\n",
    "\n",
    "adf_max_lag=1\n",
    "adf_regr_params='c'\n",
    "\n",
    "adf_pvals = np.zeros_like(mrspeeds)\n",
    "hs = np.zeros_like(mrspeeds)\n",
    "\n",
    "for i,rev in enumerate(mrspeeds):\n",
    "    print(rev, end=' ')\n",
    "    simpaths = simulate_paths(npaths = npaths_to_use, ndays = nyears*250, x0 = 0.0, vol = annvol, mrspeed = rev, seed=seed)\n",
    "    adf_pval = np.zeros(npaths_to_use)\n",
    "    for n in range(npaths_to_use):\n",
    "        res = adfuller(simpaths[n,:], maxlag=adf_max_lag, regression=adf_regr_params)\n",
    "        adf_pval[n] = res[1]\n",
    "    adf_pvals[i] = adf_pval.mean()\n",
    "    hs[i] = calc_hurst_exponent(simpaths).mean()\n",
    "\n"
   ]
  },
  {
   "cell_type": "code",
   "execution_count": null,
   "metadata": {},
   "outputs": [],
   "source": [
    "plt.figure()\n",
    "plt.plot(mrspeeds, adf_pvals, '.', label = 'p-value')\n",
    "plt.plot(mrspeeds, 0.05*np.ones_like(mrspeeds), '-', label = '0.05')\n",
    "# plt.xscale('log')\n",
    "plt.xlabel('mean reversion speed')\n",
    "plt.ylabel('p-value')\n",
    "plt.title(f'ADF test, nyears={nyears}, annvol={annvol}')\n",
    "plt.legend(loc = 'best')\n",
    "# plt.yscale('log')\n",
    "plt.show()"
   ]
  },
  {
   "cell_type": "code",
   "execution_count": null,
   "metadata": {},
   "outputs": [],
   "source": [
    "plt.figure()\n",
    "plt.plot(mrspeeds, hs, '.', label = 'hurst exponent')\n",
    "plt.plot(mrspeeds, 0.5*np.ones_like(mrspeeds), '-.', label = '0.5 for BM')\n",
    "plt.plot(mrspeeds, 0.44*np.ones_like(mrspeeds), '-.', label = '0.45, empirical pval=5%')\n",
    "# plt.yscale('log')\n",
    "plt.xlabel('mean reversion speed')\n",
    "plt.ylabel('Hurst exponent')\n",
    "plt.title(f'Hurst, nyears={nyears}, annvol={annvol}')\n",
    "plt.legend(loc = 'best')\n",
    "\n",
    "plt.show()"
   ]
  },
  {
   "cell_type": "code",
   "execution_count": null,
   "metadata": {},
   "outputs": [],
   "source": [
    "plt.figure()\n",
    "plt.plot(mrspeeds, hs, '.', label = 'hurst exponent')\n",
    "plt.plot(mrspeeds, 0.5*np.ones_like(mrspeeds), '-', label = '0.5 for BM')\n",
    "plt.xscale('log')\n",
    "plt.yscale('log')\n",
    "plt.xlabel('mean reversion speed')\n",
    "plt.ylabel('Hurst exponent')\n",
    "plt.title(f'Hurst, nyears={nyears}, annvol={annvol}')\n",
    "plt.legend(loc = 'best')\n",
    "\n",
    "plt.show()"
   ]
  },
  {
   "cell_type": "code",
   "execution_count": null,
   "metadata": {},
   "outputs": [],
   "source": []
  }
 ],
 "metadata": {
  "kernelspec": {
   "display_name": "base",
   "language": "python",
   "name": "python3"
  },
  "language_info": {
   "codemirror_mode": {
    "name": "ipython",
    "version": 3
   },
   "file_extension": ".py",
   "mimetype": "text/x-python",
   "name": "python",
   "nbconvert_exporter": "python",
   "pygments_lexer": "ipython3",
   "version": "3.8.8"
  },
  "orig_nbformat": 4
 },
 "nbformat": 4,
 "nbformat_minor": 2
}
