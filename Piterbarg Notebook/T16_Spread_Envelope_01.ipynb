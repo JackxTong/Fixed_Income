{
 "cells": [
  {
   "cell_type": "markdown",
   "metadata": {},
   "source": [
    "### Demonstrate the idea of a spread envelope\n",
    "\n",
    "See my notes\n",
    "\n",
    "It is defined as a function of s given by\n",
    "$$\n",
    "\\cal{E}_{f,g}(s) = \\max_{x-y=s} \\{  f(x) + g(y) \\}\n",
    "$$"
   ]
  },
  {
   "cell_type": "code",
   "execution_count": 1,
   "metadata": {},
   "outputs": [],
   "source": [
    "%load_ext autoreload\n",
    "%autoreload 2"
   ]
  },
  {
   "cell_type": "code",
   "execution_count": 2,
   "metadata": {},
   "outputs": [],
   "source": [
    "import numpy as np\n",
    "import cvxpy as cp\n",
    "from matplotlib import cm\n",
    "import matplotlib.pyplot as plt\n",
    "\n",
    "from sprd import grids, opt"
   ]
  },
  {
   "cell_type": "code",
   "execution_count": 3,
   "metadata": {},
   "outputs": [],
   "source": [
    "np.set_printoptions(suppress=True)\n",
    "np.set_printoptions(precision = 4)\n",
    "%matplotlib widget"
   ]
  },
  {
   "cell_type": "code",
   "execution_count": 4,
   "metadata": {},
   "outputs": [],
   "source": [
    "# do we want to save figures for notes/slides\n",
    "save_figures = False"
   ]
  },
  {
   "cell_type": "markdown",
   "metadata": {},
   "source": [
    "Set up grids for X,Y and X-Y"
   ]
  },
  {
   "cell_type": "code",
   "execution_count": 5,
   "metadata": {},
   "outputs": [],
   "source": [
    "\n",
    "# set up the grid for X and Y\n",
    "npts = 101\n",
    "fwd_for_grid = 0.0\n",
    "std_for_grid = 1.0\n",
    "n_std = 3\n",
    "xgrid = grids.gen_grid(npts, fwd = fwd_for_grid, stdev=std_for_grid, nstd = n_std)\n",
    "\n",
    "# this does assume equidistant xgrid -- but we check\n",
    "assert (np.linalg.norm(np.diff(xgrid, 2)) < 1e-6)\n",
    "\n",
    "# set up the grid for x-y\n",
    "sgrid = np.concatenate([xgrid - xgrid[-1], xgrid[1:] - xgrid[0]])\n",
    "\n",
    "# as 2D\n",
    "sx,sy = np.meshgrid(xgrid,xgrid,indexing = 'ij')"
   ]
  },
  {
   "cell_type": "markdown",
   "metadata": {},
   "source": [
    "### An example of a spread envelope calculation for fixed f,g"
   ]
  },
  {
   "cell_type": "code",
   "execution_count": 6,
   "metadata": {},
   "outputs": [],
   "source": [
    "f = 1.0*(xgrid > 0)\n",
    "g = 1.0*(xgrid > 0)\n",
    "\n",
    "sf, sg = np.meshgrid(f,g,indexing = 'ij')\n",
    "fpg = sf + sg\n",
    "\n",
    "env = np.zeros_like(sgrid)\n",
    "\n",
    "for si in range(len(sgrid)):\n",
    "\n",
    "    # the right diagonal\n",
    "    dg = np.diag(fpg, si - npts+1)\n",
    "    env[si] = np.max(dg)\n",
    "\n",
    "# print(env)\n",
    "\n"
   ]
  },
  {
   "cell_type": "code",
   "execution_count": 7,
   "metadata": {},
   "outputs": [],
   "source": [
    "def spread_envelope(f : np.ndarray, g: np.ndarray): \n",
    "    '''\n",
    "    A function that takes f(x) and g(y) as 1D arrays with npts elements\n",
    "    and returns h(s), their spread envelope, as a a 1D array with 2*npts-1 \n",
    "    elements, as well a a 2D version\n",
    "    '''\n",
    "    sf, sg = np.meshgrid(f,g,indexing = 'ij')\n",
    "    fpg = sf + sg\n",
    "\n",
    "    env1D = np.zeros_like(sgrid)\n",
    "    env2D = np.zeros_like(fpg)\n",
    "\n",
    "    for si in range(len(sgrid)):\n",
    "\n",
    "        # the  diagonal s = x-y\n",
    "        dg = np.diag(fpg, si - npts+1)\n",
    "\n",
    "        # find the max on that diagonal of f(x) + g(y). This is env(s)\n",
    "        env1D[si] = np.max(dg)\n",
    "\n",
    "        # create a 2D version\n",
    "        env_curr_diag = np.diag(np.ones_like(dg)*env1D[si], si - npts + 1)\n",
    "        env2D += env_curr_diag\n",
    "\n",
    "\n",
    "    return env1D, env2D, fpg"
   ]
  },
  {
   "cell_type": "markdown",
   "metadata": {},
   "source": [
    "### set f,g and plot"
   ]
  },
  {
   "cell_type": "code",
   "execution_count": 8,
   "metadata": {},
   "outputs": [],
   "source": [
    "# set f and g to whatever you want ...\n",
    "\n",
    "# e.g. digitals...\n",
    "f = 1.0*(xgrid > 0)\n",
    "g = 1.0*(xgrid < 0)\n",
    "\n",
    "# or calls/puts ...\n",
    "# f = np.maximum(xgrid,0)\n",
    "# g = np.maximum(-xgrid, 0)\n",
    "\n",
    "# ... and calculate the spread envelope\n",
    "h,sh,fpg = spread_envelope(f,g)\n"
   ]
  },
  {
   "cell_type": "markdown",
   "metadata": {},
   "source": [
    "### Line view of the spread envelope"
   ]
  },
  {
   "cell_type": "code",
   "execution_count": null,
   "metadata": {},
   "outputs": [],
   "source": [
    "plt.figure()\n",
    "plt.plot(sgrid, h, label = 'Spread envelope $E_{f,g}(s)$')\n",
    "plt.legend(loc='best')\n",
    "plt.show()"
   ]
  },
  {
   "cell_type": "markdown",
   "metadata": {},
   "source": [
    "### Surface view of the spread envelope"
   ]
  },
  {
   "cell_type": "code",
   "execution_count": null,
   "metadata": {},
   "outputs": [],
   "source": [
    "step = 3\n",
    "\n",
    "fig = plt.figure()\n",
    "ax = fig.add_subplot(projection='3d')\n",
    "ax.scatter(sx[::step,::step], sy[::step,::step], sh[::step,::step], marker = '.', alpha = 0.5, label = 'spread envelope')\n",
    "surf = ax.plot_surface(sx[::step,::step], sy[::step,::step], fpg[::step,::step], cmap = 'Reds', alpha=0.7, label = 'f+g')\n",
    "\n",
    "plt.xlabel('x')\n",
    "plt.ylabel('y')\n",
    "plt.title('$f(x)+g(y)$ and its spread envelope $E_{f,g}(x-y)$')\n",
    "\n",
    "# some magic workaround for the legend() bug, see \n",
    "# https://stackoverflow.com/a/54994985/14551426\n",
    "# does not seem to work\n",
    "surf._facecolors2d = surf._facecolor3d\n",
    "surf._edgecolors2d = surf._edgecolor3d\n",
    "\n",
    "plt.legend(loc = 'best')\n",
    "plt.show()\n",
    "if save_figures:\n",
    "    fname = './figs/spread_envelope_01.pdf'\n",
    "    fig.savefig(fname, bbox_inches='tight')"
   ]
  },
  {
   "cell_type": "code",
   "execution_count": null,
   "metadata": {},
   "outputs": [],
   "source": []
  }
 ],
 "metadata": {
  "kernelspec": {
   "display_name": "base",
   "language": "python",
   "name": "python3"
  },
  "language_info": {
   "codemirror_mode": {
    "name": "ipython",
    "version": 3
   },
   "file_extension": ".py",
   "mimetype": "text/x-python",
   "name": "python",
   "nbconvert_exporter": "python",
   "pygments_lexer": "ipython3",
   "version": "3.8.8"
  }
 },
 "nbformat": 4,
 "nbformat_minor": 2
}
