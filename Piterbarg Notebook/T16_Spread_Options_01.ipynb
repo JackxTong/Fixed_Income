{
 "cells": [
  {
   "cell_type": "markdown",
   "metadata": {},
   "source": [
    "### LP for Gaussian marginals X and Y and Gaussian spread X-Y\n",
    "We demonstrate that these three 1D objects do not uniquely define the 2D joint density by finding extremal solutions for options on the index X+Y"
   ]
  },
  {
   "cell_type": "code",
   "execution_count": 1,
   "metadata": {},
   "outputs": [],
   "source": [
    "%load_ext autoreload\n",
    "%autoreload 2"
   ]
  },
  {
   "cell_type": "code",
   "execution_count": 2,
   "metadata": {},
   "outputs": [],
   "source": [
    "import os\n",
    "import numpy as np\n",
    "import cvxpy as cp\n",
    "import pandas as pd\n",
    "from matplotlib import cm\n",
    "import matplotlib.pyplot as plt\n",
    "\n",
    "from scipy import stats \n",
    "from scipy import interpolate\n",
    "from sprd import grids, opt"
   ]
  },
  {
   "cell_type": "code",
   "execution_count": 3,
   "metadata": {},
   "outputs": [],
   "source": [
    "np.set_printoptions(suppress=True)\n",
    "np.set_printoptions(precision = 4)\n",
    "%matplotlib widget"
   ]
  },
  {
   "cell_type": "code",
   "execution_count": 4,
   "metadata": {},
   "outputs": [],
   "source": [
    "# do we want to save figures for notes/slides\n",
    "save_figures = False"
   ]
  },
  {
   "cell_type": "markdown",
   "metadata": {},
   "source": [
    "Set up densities of X,Y and X-Y"
   ]
  },
  {
   "cell_type": "code",
   "execution_count": 5,
   "metadata": {},
   "outputs": [],
   "source": [
    "\n",
    "# set up the grid for X and Y\n",
    "npts = 101\n",
    "fwd_for_grid = 0.0\n",
    "std_for_grid = 1.0\n",
    "n_std = 3\n",
    "xgrid = grids.gen_grid(npts, fwd = fwd_for_grid, stdev=std_for_grid, nstd = n_std)\n",
    "sx,sy = np.meshgrid(xgrid,xgrid,indexing = 'ij')"
   ]
  },
  {
   "cell_type": "code",
   "execution_count": null,
   "metadata": {},
   "outputs": [],
   "source": [
    "# Set up marginal densities and the spread density to be Gaussian\n",
    "\n",
    "x0 = 0\n",
    "y0 = 0\n",
    "xvol = 1.0\n",
    "yvol = 1.0\n",
    "xycor = 0.7\n",
    "xdens,ydens,sdens,sgrid = grids.gen_gauss_densities(xgrid, x0,y0,xvol, yvol, xycor)\n",
    "\n",
    "# check they are indeed densities\n",
    "sum(xdens), sum(ydens), sum(sdens)"
   ]
  },
  {
   "cell_type": "code",
   "execution_count": 8,
   "metadata": {},
   "outputs": [],
   "source": [
    "# Plot marginals if needed\n",
    "test_plots = False\n",
    "if test_plots:\n",
    "    plt.figure()\n",
    "    plt.plot(xgrid,xdens)\n",
    "    plt.plot(xgrid,ydens)\n",
    "    plt.title('X and Y densities')\n",
    "    plt.show()\n",
    "\n",
    "    plt.figure()\n",
    "    plt.plot(sgrid,sdens)\n",
    "    plt.title('X-Y density')\n",
    "    plt.show()\n",
    "\n",
    "         "
   ]
  },
  {
   "cell_type": "markdown",
   "metadata": {},
   "source": [
    "Set up and solve LP for the min/max value of an option on index X+Y while keeping densities of X,Y and X-Y locked"
   ]
  },
  {
   "cell_type": "code",
   "execution_count": 9,
   "metadata": {},
   "outputs": [],
   "source": [
    "def setup_and_solve_LP(type = 'min', method = 'ip', smooth_w = 1e2):\n",
    "    '''\n",
    "    This is the function to set up and solve the LP, either for type = 'min' or type = 'max'\n",
    "        type: min or max\n",
    "        method: ip or simplex\n",
    "        smooth_w: smoothing weight for wquadratic optimization\n",
    "    '''\n",
    "\n",
    "    is_simplex = method != 'ip'\n",
    "\n",
    "    # tolerance; equality makes this hard\n",
    "    eps = 1e-6\n",
    "\n",
    "    # 2d density to be solved for\n",
    "    x = cp.Variable((npts,npts))\n",
    "\n",
    "    # marginal and spread constraints\n",
    "    constraints = opt.get_spread_constraints(x, xdens, ydens, sdens, eps = eps)\n",
    "\n",
    "    # smoothing part of the objective\n",
    "    smooth_obj = smooth_w * cp.sum(cp.diff(x)**2)\n",
    "\n",
    "\n",
    "    # Set up the problem to solve\n",
    "    if type == 'min':\n",
    "        \n",
    "        if is_simplex:\n",
    "            obj = cp.Minimize(opt.get_objf_idx(x, xgrid, idx_strike=x0+y0) )\n",
    "        else:\n",
    "            obj = cp.Minimize(opt.get_objf_idx(x, xgrid, idx_strike=x0+y0) + smooth_obj)\n",
    "    else: # 'max'\n",
    "\n",
    "        if is_simplex:\n",
    "            obj = cp.Maximize(opt.get_objf_idx(x, xgrid, idx_strike=x0+y0) )\n",
    "        else:\n",
    "            obj = cp.Maximize(opt.get_objf_idx(x, xgrid, idx_strike=x0+y0) - smooth_obj)\n",
    "    prob = cp.Problem(obj, constraints)\n",
    "\n",
    "    # solve\n",
    "\n",
    "    if is_simplex:\n",
    "        _ = prob.solve( solver = 'SCIPY', scipy_options = {'method':'highs'})\n",
    "    else:\n",
    "        _ = prob.solve()\n",
    "    \n",
    "    # Print status and the optimal value achieved\n",
    "    print(f'Problem of type {type}, smoothing = {(not is_simplex) or (smooth_w <= 1e-6)}, status = {prob.status}, value = {prob.value:.4f}')\n",
    "\n",
    "    # return the solution\n",
    "    return x.value\n"
   ]
  },
  {
   "cell_type": "code",
   "execution_count": null,
   "metadata": {},
   "outputs": [],
   "source": [
    "# Get the solutions for both min and max problems\n",
    "pij_min = setup_and_solve_LP(type = 'min')\n",
    "pij_max = setup_and_solve_LP(type = 'max')\n",
    "pij_min_sp = setup_and_solve_LP(type = 'min', method='simplex')\n",
    "pij_max_sp = setup_and_solve_LP(type = 'max', method = 'simplex')"
   ]
  },
  {
   "cell_type": "code",
   "execution_count": 11,
   "metadata": {},
   "outputs": [],
   "source": [
    "test_plots = False\n",
    "if test_plots:\n",
    "    plt.figure()\n",
    "    plt.plot(sgrid, sdens, label = 'true spread density')\n",
    "    plt.plot(sgrid, grids.direct_diag_matrix_sums_basic(pij_min), 'o', label = 'fitted spread density for min')\n",
    "    plt.plot(sgrid, grids.direct_diag_matrix_sums_basic(pij_max), '.', color = 'black', label = 'fitted spread density for max')\n",
    "    plt.legend(loc = 'best')\n",
    "    plt.show()\n"
   ]
  },
  {
   "cell_type": "code",
   "execution_count": null,
   "metadata": {},
   "outputs": [],
   "source": [
    "# Plot the density of the index X+Y under two solutions\n",
    "fig, ax1 = plt.subplots()\n",
    "ax1.plot(sgrid, grids.reverse_diag_matrix_sums_basic(pij_min_sp), \n",
    "         label = 'Min index option value')\n",
    "\n",
    "ax2 = ax1.twinx()\n",
    "ax2.plot(sgrid, grids.reverse_diag_matrix_sums_basic(pij_max_sp), \n",
    "         color = 'orange', label = 'Max index option value')\n",
    "\n",
    "plt.title('Density of the index X+Y, no smoothing')\n",
    "ax1.legend(loc = 'upper left')\n",
    "ax2.legend(loc = 'upper right')\n",
    "plt.show()\n",
    "\n",
    "if save_figures:\n",
    "    fname = './figs/index_dens_for_min_max_opt_val__no_smooth_01.pdf'\n",
    "    fig.savefig(fname, bbox_inches='tight')"
   ]
  },
  {
   "cell_type": "code",
   "execution_count": null,
   "metadata": {},
   "outputs": [],
   "source": [
    "# Plot the density of the index X+Y under two solutions\n",
    "fig, ax1 = plt.subplots()\n",
    "ax1.plot(sgrid, grids.reverse_diag_matrix_sums_basic(pij_min), \n",
    "         label = 'Min index option value')\n",
    "\n",
    "ax2 = ax1.twinx()\n",
    "ax2.plot(sgrid, grids.reverse_diag_matrix_sums_basic(pij_max), \n",
    "         color = 'orange', label = 'Max index option value')\n",
    "\n",
    "plt.title('Density of the index X+Y')\n",
    "ax1.legend(loc = 'upper left')\n",
    "ax2.legend(loc = 'upper right')\n",
    "plt.show()\n",
    "\n",
    "if save_figures:\n",
    "    fname = './figs/index_dens_for_min_max_opt_val_01.pdf'\n",
    "    fig.savefig(fname, bbox_inches='tight')"
   ]
  },
  {
   "cell_type": "code",
   "execution_count": null,
   "metadata": {},
   "outputs": [],
   "source": [
    "# double_check our solution satisfies constraints\n",
    "pij = pij_min # pij_max\n",
    "print(np.sum(np.abs(pij.sum(axis=0) - xdens)) < 1e-5*npts)\n",
    "print(np.sum(np.abs(pij.sum(axis=1) - ydens)) < 1e-5*npts)\n",
    "print(np.sum(np.abs(grids.direct_diag_matrix_sums_basic(pij) - sdens)) < 1e-5*npts)"
   ]
  },
  {
   "cell_type": "code",
   "execution_count": null,
   "metadata": {},
   "outputs": [],
   "source": [
    "step = 5\n",
    "fig = plt.figure()\n",
    "plt.plot(xgrid, pij_min[:,::step])\n",
    "plt.title('Selected slices of the joint density for min index option value')\n",
    "\n",
    "plt.show()\n",
    "if save_figures:\n",
    "    fname = './figs/joint_dens_slices_for_min_opt_val_01.pdf'\n",
    "    fig.savefig(fname, bbox_inches='tight')"
   ]
  },
  {
   "cell_type": "code",
   "execution_count": null,
   "metadata": {},
   "outputs": [],
   "source": [
    "step = 5\n",
    "fig = plt.figure()\n",
    "plt.plot(xgrid, pij_max[:,::step])\n",
    "plt.title('Selected slices of the joint density for max index option value')\n",
    "\n",
    "plt.show()\n",
    "if save_figures:\n",
    "    fname = './figs/joint_dens_slices_for_max_opt_val_01.pdf'\n",
    "    fig.savefig(fname, bbox_inches='tight')"
   ]
  },
  {
   "cell_type": "code",
   "execution_count": null,
   "metadata": {},
   "outputs": [],
   "source": [
    "fig = plt.figure()\n",
    "ax = fig.add_subplot(projection='3d')\n",
    "ax.plot_surface(sx, sy, pij_min, alpha=0.7, cmap = 'YlGnBu')\n",
    "\n",
    "plt.xlabel('x')\n",
    "plt.ylabel('y')\n",
    "plt.title('Joint density for min index option value')\n",
    "plt.legend(loc = 'best')\n",
    "plt.show()\n",
    "if save_figures:\n",
    "    fname = './figs/joint_dens_2D_for_min_opt_val_01.pdf'\n",
    "    fig.savefig(fname, bbox_inches='tight')"
   ]
  },
  {
   "cell_type": "code",
   "execution_count": null,
   "metadata": {},
   "outputs": [],
   "source": [
    "fig = plt.figure()\n",
    "ax = fig.add_subplot(projection='3d')\n",
    "ax.plot_surface(sx, sy, pij_max, alpha=0.7, cmap = 'YlGnBu')\n",
    "\n",
    "plt.xlabel('x')\n",
    "plt.ylabel('y')\n",
    "plt.title('Joint density for max index option value')\n",
    "plt.legend(loc = 'best')\n",
    "plt.show()\n",
    "if save_figures:\n",
    "    fname = './figs/joint_dens_2D_for_max_opt_val_01.pdf'\n",
    "    fig.savefig(fname, bbox_inches='tight')"
   ]
  },
  {
   "cell_type": "code",
   "execution_count": null,
   "metadata": {},
   "outputs": [],
   "source": []
  }
 ],
 "metadata": {
  "kernelspec": {
   "display_name": "base",
   "language": "python",
   "name": "python3"
  },
  "language_info": {
   "codemirror_mode": {
    "name": "ipython",
    "version": 3
   },
   "file_extension": ".py",
   "mimetype": "text/x-python",
   "name": "python",
   "nbconvert_exporter": "python",
   "pygments_lexer": "ipython3",
   "version": "3.8.8"
  }
 },
 "nbformat": 4,
 "nbformat_minor": 2
}
