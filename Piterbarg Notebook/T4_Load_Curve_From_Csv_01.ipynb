{
 "cells": [
  {
   "cell_type": "code",
   "execution_count": 1,
   "metadata": {},
   "outputs": [],
   "source": [
    "%load_ext autoreload\n",
    "%autoreload 2"
   ]
  },
  {
   "cell_type": "markdown",
   "metadata": {},
   "source": [
    "# Load benchmarks from a csv, look at some useful stats\n",
    "\n"
   ]
  },
  {
   "cell_type": "markdown",
   "metadata": {},
   "source": [
    "We examine the impact of the choice of the interpolation scheme"
   ]
  },
  {
   "cell_type": "code",
   "execution_count": 2,
   "metadata": {},
   "outputs": [],
   "source": [
    "import numpy as np\n",
    "import pandas as pd\n",
    "import matplotlib.pyplot as plt"
   ]
  },
  {
   "cell_type": "code",
   "execution_count": null,
   "metadata": {},
   "outputs": [],
   "source": [
    "from financepy.utils import *\n",
    "from financepy.products.rates import *\n",
    "from financepy.market.curves import *\n",
    "\n",
    "from financepy.products.rates.ibor_benchmarks_report import dataframe_to_benchmarks"
   ]
  },
  {
   "cell_type": "markdown",
   "metadata": {},
   "source": [
    "We start by defining this useful function"
   ]
  },
  {
   "cell_type": "code",
   "execution_count": 4,
   "metadata": {},
   "outputs": [],
   "source": [
    "%matplotlib widget\n",
    "# %matplotlib auto\n",
    "def plotCurve(curve, start_date, tmax, instr_mat_dates_or_tenor = None, title = ''):\n",
    "    # years = np.linspace(1/365, tmax, 500)\n",
    "    years = np.linspace(1/365, tmax, int(365*tmax))\n",
    "    dates = start_date.add_years(years)\n",
    "    zero_rates = curve.zero_rate(dates)\n",
    "    on_fwd_rates = curve.fwd(dates)\n",
    "\n",
    "    ys_monthly = np.arange(1,tmax*12+1)/12\n",
    "    monthly_dates = start_date.add_years(ys_monthly)\n",
    "\n",
    "    if instr_mat_dates_or_tenor is not None:\n",
    "        # Will plot term forward rates\n",
    "        # instr_mat_dates_or_tenor could be a list of curve-building\n",
    "        # isntrument maturities in which case term fwd rates go from the last instrument maturiy date that is less\n",
    "        # than the plotting date to the plotting date. Or it could be a tenor so that fwd rates cover that tenor \n",
    "        # i.e. the term fwd rate for d covers [max(d-tenor,start_date), d]\n",
    "        # tenor should be a positive tenor\n",
    "\n",
    "        if isinstance(instr_mat_dates_or_tenor, str):\n",
    "            neg_tenor = '-' + instr_mat_dates_or_tenor\n",
    "            start_fwd_dates = [d.add_tenor(neg_tenor) for d in dates]\n",
    "            start_fwd_dates = [d if d > start_date else start_date for d in start_fwd_dates]\n",
    "            fwd_rate_label = f'term fwd rates for [d-{instr_mat_dates_or_tenor},d]'\n",
    "        else:\n",
    "            instr_mat_dates_or_tenor = [start_date] + instr_mat_dates_or_tenor\n",
    "            start_fwd_dates = [ max([md  for md in instr_mat_dates_or_tenor if md < d]) for d in dates]\n",
    "            fwd_rate_label = 'term fwd rates from prev instr mtrty'\n",
    "\n",
    "        term_fwd_rates = curve.fwd_rate(start_fwd_dates, dates)\n",
    "\n",
    "    plt.figure(figsize=(8,6))\n",
    "    plt.plot(years*12, zero_rates*100, '-', label=\"zero rates\")\n",
    "    plt.plot(years*12, on_fwd_rates*100, '-', label = \"ON fwd rates\")\n",
    "    plt.plot(ys_monthly*12, curve.zero_rate(monthly_dates)*100, 'o', label=\"zero rates (input)\")\n",
    "\n",
    "    if instr_mat_dates_or_tenor is not None:\n",
    "        plt.plot(years*12, term_fwd_rates*100, '-', label = fwd_rate_label)\n",
    "\n",
    "    plt.xlabel(\"Times in months\")\n",
    "    plt.ylabel(\"Rates (%) - See Legend\")\n",
    "    plt.title(title)\n",
    "    plt.legend()"
   ]
  },
  {
   "cell_type": "markdown",
   "metadata": {},
   "source": [
    "### Load csv"
   ]
  },
  {
   "cell_type": "code",
   "execution_count": null,
   "metadata": {},
   "outputs": [],
   "source": [
    "filename = './data/bms_GBP_SONIA_20220901.csv'\n",
    "dfbm = pd.read_csv(filename, index_col = 0)\n",
    "dfbm['base_date']=pd.to_datetime(dfbm['base_date'], errors = 'ignore', format = '%d/%m/%Y')\n",
    "dfbm['start_date']=pd.to_datetime(dfbm['start_date'], errors = 'ignore', format = '%d/%m/%Y')\n",
    "dfbm['maturity_date']=pd.to_datetime(dfbm['maturity_date'], errors = 'ignore', format = '%d/%m/%Y')\n",
    "dfbm.head()\n"
   ]
  },
  {
   "cell_type": "markdown",
   "metadata": {},
   "source": [
    "### convert to benchmarks"
   ]
  },
  {
   "cell_type": "code",
   "execution_count": null,
   "metadata": {},
   "outputs": [],
   "source": [
    "\n",
    "valuation_date = date.from_datetime(dfbm.loc[0,'base_date'])\n",
    "cal = CalendarTypes.UNITED_KINGDOM\n",
    "bms = dataframe_to_benchmarks(dfbm, asof_date=valuation_date,calendar_type=cal)\n",
    "depos = bms['IborDeposit']\n",
    "fras = bms['IborFRA']\n",
    "swaps = bms['IborSwap']\n",
    "\n",
    "fras.sort( key = lambda fra:fra.maturity_dt)\n"
   ]
  },
  {
   "cell_type": "code",
   "execution_count": null,
   "metadata": {},
   "outputs": [],
   "source": [
    "remove_mpc_fras = True\n",
    "if remove_mpc_fras:\n",
    "    fras_to_use = [f for f in fras if date.datediff(f.start_dt,f.maturity_dt) > 60]\n",
    "    fras = fras_to_use\n",
    "len(fras)"
   ]
  },
  {
   "cell_type": "code",
   "execution_count": null,
   "metadata": {},
   "outputs": [],
   "source": [
    "libor_curve = IborSingleCurve(valuation_date, depos, fras, swaps, InterpTypes.LINEAR_ZERO_RATES)\n",
    "plotCurve(libor_curve, valuation_date, 15, instr_mat_dates_or_tenor='1Y')"
   ]
  },
  {
   "cell_type": "markdown",
   "metadata": {},
   "source": [
    "### Let's try all available interpolators"
   ]
  },
  {
   "cell_type": "code",
   "execution_count": 10,
   "metadata": {},
   "outputs": [],
   "source": [
    "# class InterpTypes(Enum):\n",
    "#     FLAT_FWD_RATES = 1\n",
    "#     LINEAR_FWD_RATES = 2\n",
    "#     LINEAR_ZERO_RATES = 4\n",
    "#     FINCUBIC_ZERO_RATES = 7\n",
    "#     NATCUBIC_LOG_DISCOUNT = 8\n",
    "#     NATCUBIC_ZERO_RATES = 9\n",
    "#     PCHIP_ZERO_RATES = 10\n",
    "#     PCHIP_LOG_DISCOUNT = 11\n",
    "\n",
    "# from class PchipInterpolator(CubicHermiteSpline):\n",
    "#     ``x`` and ``y`` are arrays of values used to approximate some function f,\n",
    "#     with ``y = f(x)``. The interpolant uses monotonic cubic splines\n",
    "#     to find the value of new points. (PCHIP stands for Piecewise Cubic\n",
    "#     Hermite Interpolating Polynomial)."
   ]
  },
  {
   "cell_type": "code",
   "execution_count": null,
   "metadata": {},
   "outputs": [],
   "source": [
    "for interp_type in InterpTypes:\n",
    "    libor_curve = IborSingleCurve(valuation_date, depos, fras, swaps, interp_type)\n",
    "    plotCurve(libor_curve, valuation_date, 15, instr_mat_dates_or_tenor='1y', title = interp_type)"
   ]
  }
 ],
 "metadata": {
  "kernelspec": {
   "display_name": "base",
   "language": "python",
   "name": "python3"
  },
  "language_info": {
   "codemirror_mode": {
    "name": "ipython",
    "version": 3
   },
   "file_extension": ".py",
   "mimetype": "text/x-python",
   "name": "python",
   "nbconvert_exporter": "python",
   "pygments_lexer": "ipython3",
   "version": "3.8.8"
  }
 },
 "nbformat": 4,
 "nbformat_minor": 4
}
