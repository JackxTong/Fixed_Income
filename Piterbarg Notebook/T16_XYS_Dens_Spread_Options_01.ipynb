{
 "cells": [
  {
   "cell_type": "code",
   "execution_count": 1,
   "metadata": {},
   "outputs": [],
   "source": [
    "%load_ext autoreload\n",
    "%autoreload 2"
   ]
  },
  {
   "cell_type": "code",
   "execution_count": 2,
   "metadata": {},
   "outputs": [],
   "source": [
    "import os\n",
    "import numpy as np\n",
    "import cvxpy as cp\n",
    "import pandas as pd\n",
    "from matplotlib import cm\n",
    "import matplotlib.pyplot as plt\n",
    "\n",
    "from scipy import stats \n",
    "from scipy import interpolate\n",
    "from sprd import grids, opt"
   ]
  },
  {
   "cell_type": "code",
   "execution_count": 3,
   "metadata": {},
   "outputs": [],
   "source": [
    "np.set_printoptions(suppress=True)\n",
    "np.set_printoptions(precision = 4)\n",
    "%matplotlib widget"
   ]
  },
  {
   "cell_type": "code",
   "execution_count": 4,
   "metadata": {},
   "outputs": [],
   "source": [
    "npts = 101\n",
    "save_figures = True"
   ]
  },
  {
   "cell_type": "code",
   "execution_count": null,
   "metadata": {},
   "outputs": [],
   "source": [
    "# this_folder = os.path.dirname(os.path.abspath(__file__))\n",
    "# parent_folder = os.path.dirname(this_folder)\n",
    "# data_folder = os.path.join(this_folder, './data/')\n",
    "file_x = os.path.join('./data', 'spread_env_x_2_density_01.csv')\n",
    "file_y = os.path.join('./data', 'spread_env_y_1_density_01.csv')\n",
    "file_s = os.path.join('./data', 'spread_env_sp_1_density_01.csv')\n",
    "dfx = pd.read_csv(file_x)\n",
    "dfy = pd.read_csv(file_y)\n",
    "dfs = pd.read_csv(file_s)\n",
    "\n",
    "xmin = min(dfx['x'].min(), dfy['x'].min())\n",
    "xmax = max(dfx['x'].max(), dfy['x'].max())\n",
    "xgrid = np.linspace(xmin, xmax, npts, endpoint=True)\n",
    "\n",
    "assert (np.linalg.norm(np.diff(xgrid, 2)) < 1e-6)\n",
    "sgrid = np.concatenate([xgrid - xgrid[-1], xgrid[1:] - xgrid[0]])\n",
    "\n",
    "\n",
    "xdens = interpolate.interp1d(dfx['x'], dfx['y'], kind = 'linear', fill_value='extrapolate')(xgrid)\n",
    "ydens = interpolate.interp1d(dfy['x'], dfy['y'], kind = 'linear', fill_value='extrapolate')(xgrid)\n",
    "sdens = interpolate.interp1d(dfs['x'], dfs['y'], kind = 'linear', fill_value='extrapolate')(sgrid)\n",
    "\n",
    "xdens /= xdens.sum()\n",
    "ydens /= ydens.sum()\n",
    "sdens /= sdens.sum()\n",
    "\n",
    "x0 = np.sum(xdens*xgrid)\n",
    "y0 = np.sum(ydens*xgrid)\n",
    "\n",
    "print(x0,y0)\n",
    "\n",
    "print(sum(dfx['y']), sum(dfy['y']), sum(dfs['y']))\n",
    "\n"
   ]
  },
  {
   "cell_type": "code",
   "execution_count": 6,
   "metadata": {},
   "outputs": [],
   "source": [
    "\n",
    "test_plots = False\n",
    "\n",
    "if test_plots:\n",
    "    plt.figure()\n",
    "    plt.plot(dfx['x'], dfx['y'], label = 'x dens input')\n",
    "    plt.plot(xgrid, xdens, '.' , label = 'x dens interp')\n",
    "\n",
    "    plt.plot(dfy['x'], dfy['y'],label = 'y dens input')\n",
    "    plt.plot(xgrid, ydens, '.' ,label = 'y dens interp')\n",
    "\n",
    "    plt.plot(dfs['x'], dfs['y'],label = 's dens input')\n",
    "    plt.plot(sgrid, sdens, '.' ,label = 's dens interp')\n",
    "\n",
    "    plt.legend(loc='best')\n",
    "    plt.show()"
   ]
  },
  {
   "cell_type": "markdown",
   "metadata": {},
   "source": [
    "### Check if the problem is feasible\n",
    "(unfeasible is good)"
   ]
  },
  {
   "cell_type": "code",
   "execution_count": null,
   "metadata": {},
   "outputs": [],
   "source": [
    "# tolerance; equality makes this hard\n",
    "eps = 1e-6\n",
    "\n",
    "# 2d density\n",
    "x = cp.Variable((npts,npts))\n",
    "constraints = opt.get_spread_constraints(x, xdens, ydens, sdens, eps = eps)\n",
    "\n",
    "obj = cp.Minimize(opt.get_objf_idx(x, xgrid, idx_strike=x0+y0))\n",
    "# obj = cp.Maximize(opt.get_objf_idx(x, xgrid, idx_strike=x0+y0) - smooth_obj)\n",
    "prob = cp.Problem(obj, constraints)\n",
    "# res = prob.solve()\n",
    "res = prob.solve( solver = 'SCIPY', scipy_options = {'method':'highs'})\n",
    "pij = x.value\n",
    "print(prob.status)\n",
    "print(prob.value)"
   ]
  },
  {
   "cell_type": "markdown",
   "metadata": {},
   "source": [
    "### Dual"
   ]
  },
  {
   "cell_type": "code",
   "execution_count": null,
   "metadata": {},
   "outputs": [],
   "source": [
    "f = cp.Variable((npts,))\n",
    "g = cp.Variable(npts)\n",
    "h = cp.Variable(len(sdens))\n",
    "dual_obj = cp.Maximize(f@xdens + g@ydens - h@sdens)\n",
    "\n",
    "dual_constraints = []\n",
    "dual_constraints.append(cp.abs(f) <= 1)\n",
    "dual_constraints.append(cp.abs(g) <= 1)\n",
    "# dual_constraints.append(cp.abs(h) <= 10)\n",
    "\n",
    "for k in range(len(sdens)):\n",
    "    for i in range(npts):\n",
    "        for j in range(npts):\n",
    "            if i + j == k:\n",
    "                dual_constraints.append(h[k] >= f[i] + g[j])\n",
    "\n",
    "\n",
    "\n",
    "dual_prob = cp.Problem(dual_obj, dual_constraints)\n",
    "\n",
    "# res = dual_prob.solve(solver=cp.ECOS)\n",
    "res = dual_prob.solve( solver = 'SCIPY', scipy_options = {'method':'highs'})\n",
    "print(dual_prob.status)\n",
    "print(dual_prob.value)\n"
   ]
  },
  {
   "cell_type": "code",
   "execution_count": null,
   "metadata": {},
   "outputs": [],
   "source": [
    "# print values of the strategies\n",
    "print(\"Value of marginal strategy\", f.value@xdens + g.value@ydens)\n",
    "print(\"Value of spread strategy\", h.value@sdens)"
   ]
  },
  {
   "cell_type": "code",
   "execution_count": 10,
   "metadata": {},
   "outputs": [],
   "source": [
    "test_plots = False\n",
    "\n",
    "if test_plots:\n",
    "    plt.figure()\n",
    "    plt.plot(xgrid, f.value, label = 'f')\n",
    "    plt.plot(xgrid, g.value, label = 'g')\n",
    "    plt.plot(sgrid, h.value, label = 'h')\n",
    "    plt.show()\n"
   ]
  },
  {
   "cell_type": "markdown",
   "metadata": {},
   "source": [
    "~~~ Plot PDFs and payoffs for our arb"
   ]
  },
  {
   "cell_type": "code",
   "execution_count": null,
   "metadata": {},
   "outputs": [],
   "source": [
    "# X\n",
    "fig, ax1 = plt.subplots()\n",
    "ax1.plot(xgrid, xdens, label = 'PDF, left scale')\n",
    "\n",
    "ax2 = ax1.twinx()\n",
    "ax2.plot(xgrid, f.value, '.', color = 'orange', label = 'Payoff, right scale')\n",
    "plt.title('PDF and arb payoff for X')\n",
    "ax1.legend(loc = 'lower left')\n",
    "ax2.legend(loc = 'upper right')\n",
    "plt.show()\n",
    "\n",
    "\n",
    "if save_figures:\n",
    "    fname = './figs/spread_arb_X_01.pdf'\n",
    "    fig.savefig(fname, bbox_inches='tight')\n",
    "\n",
    "# Y\n",
    "fig, ax1 = plt.subplots()\n",
    "ax1.plot(xgrid, ydens, label = 'PDF, left scale')\n",
    "\n",
    "ax2 = ax1.twinx()\n",
    "ax2.plot(xgrid, g.value, '.', color = 'orange', label = 'Payoff, right scale')\n",
    "plt.title('PDF and arb payoff for Y')\n",
    "ax1.legend(loc = 'lower left')\n",
    "ax2.legend(loc = 'upper right')\n",
    "plt.show()\n",
    "\n",
    "\n",
    "if save_figures:\n",
    "    fname = './figs/spread_arb_Y_01.pdf'\n",
    "    fig.savefig(fname, bbox_inches='tight')\n",
    "\n",
    "\n",
    "# S\n",
    "fig, ax1 = plt.subplots()\n",
    "ax1.plot(sgrid, sdens, label = 'PDF, left scale')\n",
    "\n",
    "ax2 = ax1.twinx()\n",
    "ax2.plot(sgrid, h.value, '.', color = 'orange', label = 'Payoff, right scale')\n",
    "plt.title('PDF and arb payoff for S')\n",
    "ax1.legend(loc = 'lower left')\n",
    "ax2.legend(loc = 'upper right')\n",
    "plt.show()\n",
    "\n",
    "\n",
    "if save_figures:\n",
    "    fname = './figs/spread_arb_S_01.pdf'\n",
    "    fig.savefig(fname, bbox_inches='tight')"
   ]
  },
  {
   "cell_type": "code",
   "execution_count": 12,
   "metadata": {},
   "outputs": [],
   "source": [
    "#create 2D versions of the solutions and constraints for plotting\n",
    "\n",
    "# the grid\n",
    "sx,sy = np.meshgrid(xgrid,xgrid,indexing = 'ij')\n",
    "\n",
    "# the f and g functions\n",
    "sf,sg= np.meshgrid(f.value,g.value,indexing = 'ij')\n",
    "\n",
    "# This is the sum -- what we can achieve by trading in marginals only\n",
    "sfg = sf+sg\n",
    "\n",
    "# This is the payoff that is dominated by sf+sg, a function of the diagonals only\n",
    "sh = np.zeros((npts, npts))\n",
    "for i in range(npts):\n",
    "    for j in range(npts):\n",
    "        sh[i,j] = h.value[i + j]\n"
   ]
  },
  {
   "cell_type": "code",
   "execution_count": null,
   "metadata": {},
   "outputs": [],
   "source": [
    "\n",
    "step = 5\n",
    "fig = plt.figure()\n",
    "ax = fig.add_subplot(projection='3d')\n",
    "ax.scatter(sx[::step,::step], sy[::step,::step], sh[::step,::step], \\\n",
    "            marker = '.', alpha = 1.0, label = 'diagonal payoff h(s)')\n",
    "surf = ax.plot_surface(sx[::step,::step], sy[::step,::step], sfg[::step,::step], \n",
    "                        cmap = 'Reds', alpha=0.7, label = 'payoff from marginals f(x)+g(y)')\n",
    "\n",
    "plt.xlabel('x')\n",
    "plt.ylabel('y')\n",
    "plt.title('Spread envelope arbitrage')\n",
    "\n",
    "# some magic workaround for the legend() bug, see \n",
    "# https://stackoverflow.com/a/54994985/14551426\n",
    "# does not seem to work\n",
    "surf._facecolors2d = surf._facecolor3d\n",
    "surf._edgecolors2d = surf._edgecolor3d\n",
    "\n",
    "plt.legend(loc = 'best')\n",
    "plt.show()\n",
    "\n",
    "if save_figures:\n",
    "    fname = './figs/spread_arb_XYS_01.pdf'\n",
    "    fig.savefig(fname, bbox_inches='tight')\n"
   ]
  },
  {
   "cell_type": "markdown",
   "metadata": {},
   "source": [
    "### Check that triangle arbitrage does not pick this up\n",
    "My paper eq (2.1) "
   ]
  },
  {
   "cell_type": "code",
   "execution_count": 14,
   "metadata": {},
   "outputs": [],
   "source": [
    "call_x = grids.euro_option_val_grid(xgrid, xdens, opt_type = 'call')\n",
    "call_y = grids.euro_option_val_grid(xgrid, ydens, opt_type = 'call')\n",
    "putt_y = grids.euro_option_val_grid(xgrid, ydens, opt_type = 'put')\n",
    "call_s = grids.euro_option_val_grid(sgrid, sdens, opt_type = 'call')\n",
    "\n"
   ]
  },
  {
   "cell_type": "code",
   "execution_count": 15,
   "metadata": {},
   "outputs": [],
   "source": [
    "# plot to check\n",
    "plot_figures = False\n",
    "cutoff = 3e-5\n",
    "\n",
    "if plot_figures:\n",
    "    plt.figure()\n",
    "    plt.plot(xgrid, call_x, label='call_x')\n",
    "    plt.plot(xgrid, -cutoff*np.ones_like(call_x), '-.', label='cutoff')\n",
    "    plt.legend(loc='best')\n",
    "    plt.show()\n",
    "\n",
    "    plt.figure()\n",
    "    plt.plot(xgrid, call_y, label='call_y')\n",
    "    plt.plot(xgrid, putt_y, label='put_y')\n",
    "    plt.plot(xgrid, -cutoff*np.ones_like(call_x), '-.', label='cutoff')\n",
    "    plt.legend(loc='best')\n",
    "    plt.show()\n",
    "\n",
    "    plt.figure()\n",
    "    plt.plot(sgrid, call_s, label='call_s')\n",
    "    plt.plot(sgrid, -cutoff*np.ones_like(call_s), '-.', label='cutoff')\n",
    "    plt.legend(loc='best')\n",
    "    plt.show()\n"
   ]
  },
  {
   "cell_type": "code",
   "execution_count": 16,
   "metadata": {},
   "outputs": [],
   "source": [
    "\n",
    "\n",
    "# put everything into 2D\n",
    "sx,sy = np.meshgrid(xgrid,xgrid,indexing = 'ij')\n",
    "call_xx, call_yy = np.meshgrid(call_x,call_y,indexing = 'ij')\n",
    "call_xx, putt_yy = np.meshgrid(call_x,putt_y,indexing = 'ij')\n",
    "\n",
    "call_ss = np.zeros((npts,npts))\n",
    "for i in range(npts):\n",
    "    for j in range(npts):\n",
    "        call_ss[i,j] = call_s[npts -1 + i-j]\n"
   ]
  },
  {
   "cell_type": "code",
   "execution_count": 17,
   "metadata": {},
   "outputs": [],
   "source": [
    "# check the plot to see it is all cosher\n",
    "plot_figures = False\n",
    "\n",
    "\n",
    "if plot_figures:\n",
    "    step = 1\n",
    "    fig3 = plt.figure()\n",
    "    ax2 = fig3.add_subplot(projection='3d')\n",
    "    ax2.plot_surface(sx[::step,::step], sy[::step,::step], call_ss[::step,::step], cmap = 'Reds', alpha=1.0, label = 'marginal payoffs')\n",
    "    plt.xlabel('x')\n",
    "    plt.ylabel('y')\n",
    "\n",
    "    # plt.legend(loc = 'upper right')\n",
    "    plt.show()"
   ]
  },
  {
   "cell_type": "code",
   "execution_count": null,
   "metadata": {},
   "outputs": [],
   "source": [
    "# Check for tri arb \n",
    "cutoff = 3e-5\n",
    "\n",
    "# this would  be non-negative if the joint density existed (it does not). See if it holds the other way\n",
    "triarb_gap_lhs = call_ss - call_xx + call_yy\n",
    "triarb_gap_rhs = call_xx + putt_yy - call_ss\n",
    "\n",
    "arb_detected_lhs = (triarb_gap_lhs < -cutoff*1e-3 ).any() # this is the important case make sure we do not miss it\n",
    "arb_detected_rhs = (triarb_gap_rhs < -cutoff ).any() # here if cutoff is too small we get some weird boundary effects\n",
    "\n",
    "print(f'LHS triangle arbitrage detected: {arb_detected_lhs}')\n",
    "print(f'RHS triangle arbitrage detected: {arb_detected_rhs}')\n"
   ]
  },
  {
   "cell_type": "code",
   "execution_count": 19,
   "metadata": {},
   "outputs": [],
   "source": [
    "# we have some weird boundary effects for rhs (which is NOT related to our primary investigation as \n",
    "# we are looking at the LHS). But for completeness let's investigate a bit more\n",
    "if arb_detected_rhs:\n",
    "    print(np.sum(triarb_gap_rhs*(triarb_gap_rhs < -cutoff)))\n",
    "    print(np.sum(triarb_gap_rhs < -cutoff))\n",
    "\n",
    "    idx_min = np.argmin(triarb_gap_rhs)\n",
    "    imin,jmin = np.unravel_index(idx_min, (npts,npts))\n",
    "\n",
    "    print(imin, jmin, call_xx[imin,jmin], putt_yy[imin, jmin], call_ss[imin, jmin], triarb_gap_rhs[imin,jmin])\n",
    "\n",
    "    fig4 = plt.figure()\n",
    "    ax2 = fig4.add_subplot(projection='3d')\n",
    "    ax2.plot_surface(sx[::step,::step], sy[::step,::step], \n",
    "                    triarb_gap_rhs[::step,::step] * (triarb_gap_rhs[::step,::step] < -cutoff), cmap = 'Reds', alpha=1.0, label = 'marginal payoffs')\n",
    "    plt.xlabel('x')\n",
    "    plt.ylabel('y')\n"
   ]
  },
  {
   "cell_type": "code",
   "execution_count": null,
   "metadata": {},
   "outputs": [],
   "source": [
    "step = 1\n",
    "\n",
    "fig3 = plt.figure()\n",
    "ax2 = fig3.add_subplot(projection='3d')\n",
    "ax2.plot_surface(sx[::step,::step], sy[::step,::step], triarb_gap_lhs[::step,::step], cmap = 'Reds', alpha=1.0, label = 'marginal payoffs')\n",
    "plt.xlabel('x')\n",
    "plt.ylabel('y')\n",
    "plt.title('Triangle arbitrage, LHS gap')\n",
    "\n",
    "\n",
    "fig4 = plt.figure()\n",
    "ax2 = fig4.add_subplot(projection='3d')\n",
    "ax2.plot_surface(sx[::step,::step], sy[::step,::step], \n",
    "                triarb_gap_rhs[::step,::step], cmap = 'Reds', alpha=1.0, label = 'marginal payoffs')\n",
    "plt.xlabel('x')\n",
    "plt.ylabel('y')\n",
    "plt.title('Triangle arbitrage, RHS gap')\n",
    "\n",
    "if save_figures:\n",
    "    fname = './figs/triangle_arb_01.pdf'\n",
    "    fig.savefig(fname, bbox_inches='tight')"
   ]
  },
  {
   "cell_type": "code",
   "execution_count": 21,
   "metadata": {},
   "outputs": [],
   "source": [
    "# dig a bit deeper into rhs\n",
    "if arb_detected_rhs:\n",
    "    x_coords = []\n",
    "    y_coords = []\n",
    "    xval = []\n",
    "    yval = []\n",
    "    sval = []\n",
    "\n",
    "    for i in range(npts):\n",
    "        for j in range(npts):\n",
    "            if triarb_gap_rhs[i,j] < -cutoff:\n",
    "                x_coords.append(i)\n",
    "                y_coords.append(j)\n",
    "                xval.append(call_xx[i,j])\n",
    "                yval.append(putt_yy[i,j])\n",
    "                sval.append(call_ss[i,j])\n",
    "\n",
    "\n",
    "    print(list(zip(x_coords, y_coords)))\n",
    "    print(list(zip(xval, yval, sval)))"
   ]
  },
  {
   "cell_type": "code",
   "execution_count": null,
   "metadata": {},
   "outputs": [],
   "source": [
    "\n"
   ]
  },
  {
   "cell_type": "code",
   "execution_count": null,
   "metadata": {},
   "outputs": [],
   "source": []
  }
 ],
 "metadata": {
  "kernelspec": {
   "display_name": "base",
   "language": "python",
   "name": "python3"
  },
  "language_info": {
   "codemirror_mode": {
    "name": "ipython",
    "version": 3
   },
   "file_extension": ".py",
   "mimetype": "text/x-python",
   "name": "python",
   "nbconvert_exporter": "python",
   "pygments_lexer": "ipython3",
   "version": "3.8.8"
  }
 },
 "nbformat": 4,
 "nbformat_minor": 2
}
