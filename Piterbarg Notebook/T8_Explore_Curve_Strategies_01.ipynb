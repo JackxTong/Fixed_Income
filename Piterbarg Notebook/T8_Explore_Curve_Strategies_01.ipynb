{
 "cells": [
  {
   "cell_type": "code",
   "execution_count": 6,
   "metadata": {},
   "outputs": [],
   "source": [
    "# %load_ext autoreload\n",
    "# %autoreload 2"
   ]
  },
  {
   "attachments": {},
   "cell_type": "markdown",
   "metadata": {},
   "source": [
    "# Calculate DV01 and roll-down for various swap strategies\n",
    "\n"
   ]
  },
  {
   "cell_type": "code",
   "execution_count": 7,
   "metadata": {},
   "outputs": [],
   "source": [
    "import numpy as np\n",
    "import pandas as pd\n",
    "import matplotlib.pyplot as plt\n",
    "\n",
    "# pretty-preview of dataframes (does not work for me)\n",
    "# from jupyter_datatables import init_datatables_mode # pip install jupyter-datatables\n"
   ]
  },
  {
   "cell_type": "code",
   "execution_count": 8,
   "metadata": {},
   "outputs": [],
   "source": [
    "from financepy.utils import *\n",
    "from financepy.products.rates import *\n",
    "from financepy.market.curves import *\n",
    "from financepy.utils.day_count import DayCount, DayCountTypes\n",
    "\n",
    "import financepy.products.rates.ibor_curve_risk_engine as re\n",
    "from financepy.products.rates.ibor_benchmarks_report import dataframe_to_benchmarks"
   ]
  },
  {
   "cell_type": "markdown",
   "metadata": {},
   "source": [
    "### Print dataframes a certain way"
   ]
  },
  {
   "cell_type": "code",
   "execution_count": 9,
   "metadata": {},
   "outputs": [],
   "source": [
    "pd.set_option('display.max_rows', None,\n",
    "                    'display.max_columns', None,\n",
    "                    'display.float_format', lambda x:f'{x:.4f}'\n",
    "                    )\n",
    "\n",
    "# pretty-preview of dataframes (does not work for me)\n",
    "# init_datatables_mode()"
   ]
  },
  {
   "cell_type": "markdown",
   "metadata": {},
   "source": [
    "### Function to plot a curve"
   ]
  },
  {
   "cell_type": "code",
   "execution_count": 10,
   "metadata": {},
   "outputs": [],
   "source": [
    "\n",
    "def plotCurve(curve, start_date, tmax, instr_mat_dates_or_tenor = None, title = ''):\n",
    "    years = np.linspace(1/365, tmax, int(365*tmax)//30)\n",
    "    dates = start_date.add_years(years)\n",
    "    zero_rates = curve.zero_rate(dates)\n",
    "    on_fwd_rates = curve.fwd(dates)\n",
    "\n",
    "    ys_monthly = np.arange(1,tmax*12+1)/12\n",
    "    monthly_dates = start_date.add_years(ys_monthly)\n",
    "\n",
    "    if instr_mat_dates_or_tenor is not None:\n",
    "        # Will plot term forward rates\n",
    "        # instr_mat_dates_or_tenor could be a list of curve-building\n",
    "        # isntrument maturities in which case term fwd rates go from the last instrument maturiy date that is less\n",
    "        # than the plotting date to the plotting date. Or it could be a tenor so that fwd rates cover that tenor \n",
    "        # i.e. the term fwd rate for d covers [max(d-tenor,start_date), d]\n",
    "        # tenor should be a positive tenor\n",
    "\n",
    "        if isinstance(instr_mat_dates_or_tenor, str):\n",
    "            neg_tenor = '-' + instr_mat_dates_or_tenor\n",
    "            start_fwd_dates = [d.add_tenor(neg_tenor) for d in dates]\n",
    "            start_fwd_dates = [d if d > start_date else start_date for d in start_fwd_dates]\n",
    "            fwd_rate_label = f'term fwd rates for [d-{instr_mat_dates_or_tenor},d]'\n",
    "        else:\n",
    "            instr_mat_dates_or_tenor = [start_date] + instr_mat_dates_or_tenor\n",
    "            start_fwd_dates = [ max([md  for md in instr_mat_dates_or_tenor if md < d]) for d in dates]\n",
    "            fwd_rate_label = 'term fwd rates from prev instr mtrty'\n",
    "\n",
    "        term_fwd_rates = curve.fwd_rate(start_fwd_dates, dates)\n",
    "\n",
    "    plt.figure(figsize=(8,6))\n",
    "    plt.plot(years, zero_rates*100, '-', label=\"zero rates\")\n",
    "    plt.plot(years, on_fwd_rates*100, '-', label = \"ON fwd rates\")\n",
    "\n",
    "    if instr_mat_dates_or_tenor is not None:\n",
    "        plt.plot(years, term_fwd_rates*100, '.', label = fwd_rate_label)\n",
    "\n",
    "    plt.xlabel(\"Times in years\")\n",
    "    plt.ylabel(\"Rates (%) - See Legend\")\n",
    "    plt.title(title)\n",
    "    plt.legend()"
   ]
  },
  {
   "attachments": {},
   "cell_type": "markdown",
   "metadata": {},
   "source": [
    "### Load csv with curve bechmarks"
   ]
  },
  {
   "cell_type": "code",
   "execution_count": 11,
   "metadata": {},
   "outputs": [
    {
     "ename": "FileNotFoundError",
     "evalue": "[Errno 2] No such file or directory: './data/bms_GBP_SONIA_20220901_10y_off.csv'",
     "output_type": "error",
     "traceback": [
      "\u001b[0;31m---------------------------------------------------------------------------\u001b[0m",
      "\u001b[0;31mFileNotFoundError\u001b[0m                         Traceback (most recent call last)",
      "Cell \u001b[0;32mIn[11], line 2\u001b[0m\n\u001b[1;32m      1\u001b[0m filename \u001b[38;5;241m=\u001b[39m \u001b[38;5;124m'\u001b[39m\u001b[38;5;124m./data/bms_GBP_SONIA_20220901_10y_off.csv\u001b[39m\u001b[38;5;124m'\u001b[39m\n\u001b[0;32m----> 2\u001b[0m dfbm \u001b[38;5;241m=\u001b[39m \u001b[43mpd\u001b[49m\u001b[38;5;241;43m.\u001b[39;49m\u001b[43mread_csv\u001b[49m\u001b[43m(\u001b[49m\u001b[43mfilename\u001b[49m\u001b[43m,\u001b[49m\u001b[43m \u001b[49m\u001b[43mindex_col\u001b[49m\u001b[43m \u001b[49m\u001b[38;5;241;43m=\u001b[39;49m\u001b[43m \u001b[49m\u001b[38;5;241;43m0\u001b[39;49m\u001b[43m)\u001b[49m\n\u001b[1;32m      3\u001b[0m dfbm[\u001b[38;5;124m'\u001b[39m\u001b[38;5;124mbase_date\u001b[39m\u001b[38;5;124m'\u001b[39m]\u001b[38;5;241m=\u001b[39mpd\u001b[38;5;241m.\u001b[39mto_datetime(dfbm[\u001b[38;5;124m'\u001b[39m\u001b[38;5;124mbase_date\u001b[39m\u001b[38;5;124m'\u001b[39m], errors \u001b[38;5;241m=\u001b[39m \u001b[38;5;124m'\u001b[39m\u001b[38;5;124mignore\u001b[39m\u001b[38;5;124m'\u001b[39m, \u001b[38;5;28mformat\u001b[39m \u001b[38;5;241m=\u001b[39m \u001b[38;5;124m'\u001b[39m\u001b[38;5;132;01m%d\u001b[39;00m\u001b[38;5;124m/\u001b[39m\u001b[38;5;124m%\u001b[39m\u001b[38;5;124mm/\u001b[39m\u001b[38;5;124m%\u001b[39m\u001b[38;5;124mY\u001b[39m\u001b[38;5;124m'\u001b[39m)\n\u001b[1;32m      4\u001b[0m dfbm[\u001b[38;5;124m'\u001b[39m\u001b[38;5;124mstart_date\u001b[39m\u001b[38;5;124m'\u001b[39m]\u001b[38;5;241m=\u001b[39mpd\u001b[38;5;241m.\u001b[39mto_datetime(dfbm[\u001b[38;5;124m'\u001b[39m\u001b[38;5;124mstart_date\u001b[39m\u001b[38;5;124m'\u001b[39m], errors \u001b[38;5;241m=\u001b[39m \u001b[38;5;124m'\u001b[39m\u001b[38;5;124mignore\u001b[39m\u001b[38;5;124m'\u001b[39m, \u001b[38;5;28mformat\u001b[39m \u001b[38;5;241m=\u001b[39m \u001b[38;5;124m'\u001b[39m\u001b[38;5;132;01m%d\u001b[39;00m\u001b[38;5;124m/\u001b[39m\u001b[38;5;124m%\u001b[39m\u001b[38;5;124mm/\u001b[39m\u001b[38;5;124m%\u001b[39m\u001b[38;5;124mY\u001b[39m\u001b[38;5;124m'\u001b[39m)\n",
      "File \u001b[0;32m~/Fixed_Income/fpy_venv/lib/python3.11/site-packages/pandas/io/parsers/readers.py:1026\u001b[0m, in \u001b[0;36mread_csv\u001b[0;34m(filepath_or_buffer, sep, delimiter, header, names, index_col, usecols, dtype, engine, converters, true_values, false_values, skipinitialspace, skiprows, skipfooter, nrows, na_values, keep_default_na, na_filter, verbose, skip_blank_lines, parse_dates, infer_datetime_format, keep_date_col, date_parser, date_format, dayfirst, cache_dates, iterator, chunksize, compression, thousands, decimal, lineterminator, quotechar, quoting, doublequote, escapechar, comment, encoding, encoding_errors, dialect, on_bad_lines, delim_whitespace, low_memory, memory_map, float_precision, storage_options, dtype_backend)\u001b[0m\n\u001b[1;32m   1013\u001b[0m kwds_defaults \u001b[38;5;241m=\u001b[39m _refine_defaults_read(\n\u001b[1;32m   1014\u001b[0m     dialect,\n\u001b[1;32m   1015\u001b[0m     delimiter,\n\u001b[0;32m   (...)\u001b[0m\n\u001b[1;32m   1022\u001b[0m     dtype_backend\u001b[38;5;241m=\u001b[39mdtype_backend,\n\u001b[1;32m   1023\u001b[0m )\n\u001b[1;32m   1024\u001b[0m kwds\u001b[38;5;241m.\u001b[39mupdate(kwds_defaults)\n\u001b[0;32m-> 1026\u001b[0m \u001b[38;5;28;01mreturn\u001b[39;00m \u001b[43m_read\u001b[49m\u001b[43m(\u001b[49m\u001b[43mfilepath_or_buffer\u001b[49m\u001b[43m,\u001b[49m\u001b[43m \u001b[49m\u001b[43mkwds\u001b[49m\u001b[43m)\u001b[49m\n",
      "File \u001b[0;32m~/Fixed_Income/fpy_venv/lib/python3.11/site-packages/pandas/io/parsers/readers.py:620\u001b[0m, in \u001b[0;36m_read\u001b[0;34m(filepath_or_buffer, kwds)\u001b[0m\n\u001b[1;32m    617\u001b[0m _validate_names(kwds\u001b[38;5;241m.\u001b[39mget(\u001b[38;5;124m\"\u001b[39m\u001b[38;5;124mnames\u001b[39m\u001b[38;5;124m\"\u001b[39m, \u001b[38;5;28;01mNone\u001b[39;00m))\n\u001b[1;32m    619\u001b[0m \u001b[38;5;66;03m# Create the parser.\u001b[39;00m\n\u001b[0;32m--> 620\u001b[0m parser \u001b[38;5;241m=\u001b[39m \u001b[43mTextFileReader\u001b[49m\u001b[43m(\u001b[49m\u001b[43mfilepath_or_buffer\u001b[49m\u001b[43m,\u001b[49m\u001b[43m \u001b[49m\u001b[38;5;241;43m*\u001b[39;49m\u001b[38;5;241;43m*\u001b[39;49m\u001b[43mkwds\u001b[49m\u001b[43m)\u001b[49m\n\u001b[1;32m    622\u001b[0m \u001b[38;5;28;01mif\u001b[39;00m chunksize \u001b[38;5;129;01mor\u001b[39;00m iterator:\n\u001b[1;32m    623\u001b[0m     \u001b[38;5;28;01mreturn\u001b[39;00m parser\n",
      "File \u001b[0;32m~/Fixed_Income/fpy_venv/lib/python3.11/site-packages/pandas/io/parsers/readers.py:1620\u001b[0m, in \u001b[0;36mTextFileReader.__init__\u001b[0;34m(self, f, engine, **kwds)\u001b[0m\n\u001b[1;32m   1617\u001b[0m     \u001b[38;5;28mself\u001b[39m\u001b[38;5;241m.\u001b[39moptions[\u001b[38;5;124m\"\u001b[39m\u001b[38;5;124mhas_index_names\u001b[39m\u001b[38;5;124m\"\u001b[39m] \u001b[38;5;241m=\u001b[39m kwds[\u001b[38;5;124m\"\u001b[39m\u001b[38;5;124mhas_index_names\u001b[39m\u001b[38;5;124m\"\u001b[39m]\n\u001b[1;32m   1619\u001b[0m \u001b[38;5;28mself\u001b[39m\u001b[38;5;241m.\u001b[39mhandles: IOHandles \u001b[38;5;241m|\u001b[39m \u001b[38;5;28;01mNone\u001b[39;00m \u001b[38;5;241m=\u001b[39m \u001b[38;5;28;01mNone\u001b[39;00m\n\u001b[0;32m-> 1620\u001b[0m \u001b[38;5;28mself\u001b[39m\u001b[38;5;241m.\u001b[39m_engine \u001b[38;5;241m=\u001b[39m \u001b[38;5;28;43mself\u001b[39;49m\u001b[38;5;241;43m.\u001b[39;49m\u001b[43m_make_engine\u001b[49m\u001b[43m(\u001b[49m\u001b[43mf\u001b[49m\u001b[43m,\u001b[49m\u001b[43m \u001b[49m\u001b[38;5;28;43mself\u001b[39;49m\u001b[38;5;241;43m.\u001b[39;49m\u001b[43mengine\u001b[49m\u001b[43m)\u001b[49m\n",
      "File \u001b[0;32m~/Fixed_Income/fpy_venv/lib/python3.11/site-packages/pandas/io/parsers/readers.py:1880\u001b[0m, in \u001b[0;36mTextFileReader._make_engine\u001b[0;34m(self, f, engine)\u001b[0m\n\u001b[1;32m   1878\u001b[0m     \u001b[38;5;28;01mif\u001b[39;00m \u001b[38;5;124m\"\u001b[39m\u001b[38;5;124mb\u001b[39m\u001b[38;5;124m\"\u001b[39m \u001b[38;5;129;01mnot\u001b[39;00m \u001b[38;5;129;01min\u001b[39;00m mode:\n\u001b[1;32m   1879\u001b[0m         mode \u001b[38;5;241m+\u001b[39m\u001b[38;5;241m=\u001b[39m \u001b[38;5;124m\"\u001b[39m\u001b[38;5;124mb\u001b[39m\u001b[38;5;124m\"\u001b[39m\n\u001b[0;32m-> 1880\u001b[0m \u001b[38;5;28mself\u001b[39m\u001b[38;5;241m.\u001b[39mhandles \u001b[38;5;241m=\u001b[39m \u001b[43mget_handle\u001b[49m\u001b[43m(\u001b[49m\n\u001b[1;32m   1881\u001b[0m \u001b[43m    \u001b[49m\u001b[43mf\u001b[49m\u001b[43m,\u001b[49m\n\u001b[1;32m   1882\u001b[0m \u001b[43m    \u001b[49m\u001b[43mmode\u001b[49m\u001b[43m,\u001b[49m\n\u001b[1;32m   1883\u001b[0m \u001b[43m    \u001b[49m\u001b[43mencoding\u001b[49m\u001b[38;5;241;43m=\u001b[39;49m\u001b[38;5;28;43mself\u001b[39;49m\u001b[38;5;241;43m.\u001b[39;49m\u001b[43moptions\u001b[49m\u001b[38;5;241;43m.\u001b[39;49m\u001b[43mget\u001b[49m\u001b[43m(\u001b[49m\u001b[38;5;124;43m\"\u001b[39;49m\u001b[38;5;124;43mencoding\u001b[39;49m\u001b[38;5;124;43m\"\u001b[39;49m\u001b[43m,\u001b[49m\u001b[43m \u001b[49m\u001b[38;5;28;43;01mNone\u001b[39;49;00m\u001b[43m)\u001b[49m\u001b[43m,\u001b[49m\n\u001b[1;32m   1884\u001b[0m \u001b[43m    \u001b[49m\u001b[43mcompression\u001b[49m\u001b[38;5;241;43m=\u001b[39;49m\u001b[38;5;28;43mself\u001b[39;49m\u001b[38;5;241;43m.\u001b[39;49m\u001b[43moptions\u001b[49m\u001b[38;5;241;43m.\u001b[39;49m\u001b[43mget\u001b[49m\u001b[43m(\u001b[49m\u001b[38;5;124;43m\"\u001b[39;49m\u001b[38;5;124;43mcompression\u001b[39;49m\u001b[38;5;124;43m\"\u001b[39;49m\u001b[43m,\u001b[49m\u001b[43m \u001b[49m\u001b[38;5;28;43;01mNone\u001b[39;49;00m\u001b[43m)\u001b[49m\u001b[43m,\u001b[49m\n\u001b[1;32m   1885\u001b[0m \u001b[43m    \u001b[49m\u001b[43mmemory_map\u001b[49m\u001b[38;5;241;43m=\u001b[39;49m\u001b[38;5;28;43mself\u001b[39;49m\u001b[38;5;241;43m.\u001b[39;49m\u001b[43moptions\u001b[49m\u001b[38;5;241;43m.\u001b[39;49m\u001b[43mget\u001b[49m\u001b[43m(\u001b[49m\u001b[38;5;124;43m\"\u001b[39;49m\u001b[38;5;124;43mmemory_map\u001b[39;49m\u001b[38;5;124;43m\"\u001b[39;49m\u001b[43m,\u001b[49m\u001b[43m \u001b[49m\u001b[38;5;28;43;01mFalse\u001b[39;49;00m\u001b[43m)\u001b[49m\u001b[43m,\u001b[49m\n\u001b[1;32m   1886\u001b[0m \u001b[43m    \u001b[49m\u001b[43mis_text\u001b[49m\u001b[38;5;241;43m=\u001b[39;49m\u001b[43mis_text\u001b[49m\u001b[43m,\u001b[49m\n\u001b[1;32m   1887\u001b[0m \u001b[43m    \u001b[49m\u001b[43merrors\u001b[49m\u001b[38;5;241;43m=\u001b[39;49m\u001b[38;5;28;43mself\u001b[39;49m\u001b[38;5;241;43m.\u001b[39;49m\u001b[43moptions\u001b[49m\u001b[38;5;241;43m.\u001b[39;49m\u001b[43mget\u001b[49m\u001b[43m(\u001b[49m\u001b[38;5;124;43m\"\u001b[39;49m\u001b[38;5;124;43mencoding_errors\u001b[39;49m\u001b[38;5;124;43m\"\u001b[39;49m\u001b[43m,\u001b[49m\u001b[43m \u001b[49m\u001b[38;5;124;43m\"\u001b[39;49m\u001b[38;5;124;43mstrict\u001b[39;49m\u001b[38;5;124;43m\"\u001b[39;49m\u001b[43m)\u001b[49m\u001b[43m,\u001b[49m\n\u001b[1;32m   1888\u001b[0m \u001b[43m    \u001b[49m\u001b[43mstorage_options\u001b[49m\u001b[38;5;241;43m=\u001b[39;49m\u001b[38;5;28;43mself\u001b[39;49m\u001b[38;5;241;43m.\u001b[39;49m\u001b[43moptions\u001b[49m\u001b[38;5;241;43m.\u001b[39;49m\u001b[43mget\u001b[49m\u001b[43m(\u001b[49m\u001b[38;5;124;43m\"\u001b[39;49m\u001b[38;5;124;43mstorage_options\u001b[39;49m\u001b[38;5;124;43m\"\u001b[39;49m\u001b[43m,\u001b[49m\u001b[43m \u001b[49m\u001b[38;5;28;43;01mNone\u001b[39;49;00m\u001b[43m)\u001b[49m\u001b[43m,\u001b[49m\n\u001b[1;32m   1889\u001b[0m \u001b[43m\u001b[49m\u001b[43m)\u001b[49m\n\u001b[1;32m   1890\u001b[0m \u001b[38;5;28;01massert\u001b[39;00m \u001b[38;5;28mself\u001b[39m\u001b[38;5;241m.\u001b[39mhandles \u001b[38;5;129;01mis\u001b[39;00m \u001b[38;5;129;01mnot\u001b[39;00m \u001b[38;5;28;01mNone\u001b[39;00m\n\u001b[1;32m   1891\u001b[0m f \u001b[38;5;241m=\u001b[39m \u001b[38;5;28mself\u001b[39m\u001b[38;5;241m.\u001b[39mhandles\u001b[38;5;241m.\u001b[39mhandle\n",
      "File \u001b[0;32m~/Fixed_Income/fpy_venv/lib/python3.11/site-packages/pandas/io/common.py:873\u001b[0m, in \u001b[0;36mget_handle\u001b[0;34m(path_or_buf, mode, encoding, compression, memory_map, is_text, errors, storage_options)\u001b[0m\n\u001b[1;32m    868\u001b[0m \u001b[38;5;28;01melif\u001b[39;00m \u001b[38;5;28misinstance\u001b[39m(handle, \u001b[38;5;28mstr\u001b[39m):\n\u001b[1;32m    869\u001b[0m     \u001b[38;5;66;03m# Check whether the filename is to be opened in binary mode.\u001b[39;00m\n\u001b[1;32m    870\u001b[0m     \u001b[38;5;66;03m# Binary mode does not support 'encoding' and 'newline'.\u001b[39;00m\n\u001b[1;32m    871\u001b[0m     \u001b[38;5;28;01mif\u001b[39;00m ioargs\u001b[38;5;241m.\u001b[39mencoding \u001b[38;5;129;01mand\u001b[39;00m \u001b[38;5;124m\"\u001b[39m\u001b[38;5;124mb\u001b[39m\u001b[38;5;124m\"\u001b[39m \u001b[38;5;129;01mnot\u001b[39;00m \u001b[38;5;129;01min\u001b[39;00m ioargs\u001b[38;5;241m.\u001b[39mmode:\n\u001b[1;32m    872\u001b[0m         \u001b[38;5;66;03m# Encoding\u001b[39;00m\n\u001b[0;32m--> 873\u001b[0m         handle \u001b[38;5;241m=\u001b[39m \u001b[38;5;28;43mopen\u001b[39;49m\u001b[43m(\u001b[49m\n\u001b[1;32m    874\u001b[0m \u001b[43m            \u001b[49m\u001b[43mhandle\u001b[49m\u001b[43m,\u001b[49m\n\u001b[1;32m    875\u001b[0m \u001b[43m            \u001b[49m\u001b[43mioargs\u001b[49m\u001b[38;5;241;43m.\u001b[39;49m\u001b[43mmode\u001b[49m\u001b[43m,\u001b[49m\n\u001b[1;32m    876\u001b[0m \u001b[43m            \u001b[49m\u001b[43mencoding\u001b[49m\u001b[38;5;241;43m=\u001b[39;49m\u001b[43mioargs\u001b[49m\u001b[38;5;241;43m.\u001b[39;49m\u001b[43mencoding\u001b[49m\u001b[43m,\u001b[49m\n\u001b[1;32m    877\u001b[0m \u001b[43m            \u001b[49m\u001b[43merrors\u001b[49m\u001b[38;5;241;43m=\u001b[39;49m\u001b[43merrors\u001b[49m\u001b[43m,\u001b[49m\n\u001b[1;32m    878\u001b[0m \u001b[43m            \u001b[49m\u001b[43mnewline\u001b[49m\u001b[38;5;241;43m=\u001b[39;49m\u001b[38;5;124;43m\"\u001b[39;49m\u001b[38;5;124;43m\"\u001b[39;49m\u001b[43m,\u001b[49m\n\u001b[1;32m    879\u001b[0m \u001b[43m        \u001b[49m\u001b[43m)\u001b[49m\n\u001b[1;32m    880\u001b[0m     \u001b[38;5;28;01melse\u001b[39;00m:\n\u001b[1;32m    881\u001b[0m         \u001b[38;5;66;03m# Binary mode\u001b[39;00m\n\u001b[1;32m    882\u001b[0m         handle \u001b[38;5;241m=\u001b[39m \u001b[38;5;28mopen\u001b[39m(handle, ioargs\u001b[38;5;241m.\u001b[39mmode)\n",
      "\u001b[0;31mFileNotFoundError\u001b[0m: [Errno 2] No such file or directory: './data/bms_GBP_SONIA_20220901_10y_off.csv'"
     ]
    }
   ],
   "source": [
    "filename = './data/bms_GBP_SONIA_20220901_10y_off.csv'\n",
    "dfbm = pd.read_csv(filename, index_col = 0)\n",
    "dfbm['base_date']=pd.to_datetime(dfbm['base_date'], errors = 'ignore', format = '%d/%m/%Y')\n",
    "dfbm['start_date']=pd.to_datetime(dfbm['start_date'], errors = 'ignore', format = '%d/%m/%Y')\n",
    "dfbm['maturity_date']=pd.to_datetime(dfbm['maturity_date'], errors = 'ignore', format = '%d/%m/%Y')\n",
    "dfbm.head()\n"
   ]
  },
  {
   "attachments": {},
   "cell_type": "markdown",
   "metadata": {},
   "source": [
    "### Convert to benchmarks"
   ]
  },
  {
   "cell_type": "code",
   "execution_count": 10,
   "metadata": {},
   "outputs": [],
   "source": [
    "\n",
    "valuation_date = date.from_datetime(dfbm.loc[0,'base_date'])\n",
    "cal = CalendarTypes.UNITED_KINGDOM\n",
    "bms = dataframe_to_benchmarks(dfbm, asof_date=valuation_date,calendar_type=cal)\n",
    "depos = bms['IborDeposit']\n",
    "fras = bms['IborFRA']\n",
    "swaps = bms['IborSwap']\n",
    "\n",
    "fras.sort( key = lambda fra:fra.maturity_dt)\n"
   ]
  },
  {
   "cell_type": "markdown",
   "metadata": {},
   "source": [
    "### Remove MPC FRAs to simplify the curve"
   ]
  },
  {
   "cell_type": "code",
   "execution_count": null,
   "metadata": {},
   "outputs": [],
   "source": [
    "remove_mpc_fras = True\n",
    "if remove_mpc_fras:\n",
    "    fras_to_use = [f for f in fras if date.datediff(f.start_dt,f.maturity_dt) > 60]\n",
    "    fras = fras_to_use\n",
    "len(fras)"
   ]
  },
  {
   "cell_type": "markdown",
   "metadata": {},
   "source": [
    "## Make a shorter curve"
   ]
  },
  {
   "cell_type": "code",
   "execution_count": null,
   "metadata": {},
   "outputs": [],
   "source": [
    "last_year = 30\n",
    "swaps_to_use = [s for s in swaps if DayCount(DayCountTypes.SIMPLE).year_frac(s.effective_dt,s.maturity_dt)[0] <=  last_year]\n",
    "swaps = swaps_to_use\n",
    "len(swaps)"
   ]
  },
  {
   "cell_type": "markdown",
   "metadata": {},
   "source": [
    "### Calibrate and plot the curve"
   ]
  },
  {
   "cell_type": "code",
   "execution_count": null,
   "metadata": {},
   "outputs": [],
   "source": [
    "curve = IborSingleCurve(valuation_date, depos, fras, swaps, InterpTypes.PCHIP_ZERO_RATES)\n",
    "plotCurve(curve, valuation_date, 20, instr_mat_dates_or_tenor='1Y')"
   ]
  },
  {
   "cell_type": "markdown",
   "metadata": {},
   "source": [
    "### Some common params"
   ]
  },
  {
   "cell_type": "code",
   "execution_count": 15,
   "metadata": {},
   "outputs": [],
   "source": [
    "spot_days = 2\n",
    "settlement_date = valuation_date.add_weekdays(spot_days)\n",
    "fixedDCCType = DayCountTypes.ACT_365F\n",
    "fixedFreqType = FrequencyTypes.ANNUAL"
   ]
  },
  {
   "attachments": {},
   "cell_type": "markdown",
   "metadata": {},
   "source": [
    "### Look at different outright swaps "
   ]
  },
  {
   "cell_type": "code",
   "execution_count": 18,
   "metadata": {},
   "outputs": [],
   "source": [
    "# Outrights all normalized to have dv01 ~ 15\n",
    "\n",
    "outrights = {}\n",
    "outr_labels =[]\n",
    "for n in np.arange(1,16):\n",
    "    s = IborSwap(settlement_date, f'{n}Y', SwapTypes.PAY, 1*g_percent, fixedFreqType, fixedDCCType, cal_type=cal, notional = 10_000 * 15.0/n)\n",
    "    s.set_fixed_rate_to_atm(valuation_date, curve)    \n",
    "    outrights[f'outr{n}'] = s\n"
   ]
  },
  {
   "cell_type": "markdown",
   "metadata": {},
   "source": [
    "### Define some strategies"
   ]
  },
  {
   "cell_type": "code",
   "execution_count": 19,
   "metadata": {},
   "outputs": [],
   "source": [
    "# Steepeners using spot swaps\n",
    "swap5y = IborSwap(settlement_date, \"5Y\", SwapTypes.RECEIVE, 1*g_percent, fixedFreqType, fixedDCCType, cal_type=cal, notional = 30_000)\n",
    "swap15y = IborSwap(settlement_date, \"15Y\", SwapTypes.PAY, 1*g_percent, fixedFreqType, fixedDCCType, cal_type=cal, notional = 10_000)\n",
    "\n",
    "steep_spot_5_15 = {\n",
    "    'spot5y':swap5y,\n",
    "    'spot15y':swap15y,\n",
    "}\n"
   ]
  },
  {
   "cell_type": "code",
   "execution_count": 20,
   "metadata": {},
   "outputs": [],
   "source": [
    "# Steepener using fwd swaps\n",
    "swap0y5y = IborSwap(settlement_date, \"5Y\", SwapTypes.RECEIVE, 1*g_percent, fixedFreqType, fixedDCCType, cal_type=cal, notional = 20_000)\n",
    "swap5y10y = IborSwap(settlement_date.add_tenor('5Y'), \"10Y\", SwapTypes.PAY, 1*g_percent, fixedFreqType, fixedDCCType, cal_type=cal, notional = 10_000)\n",
    "swap0y5y.set_fixed_rate_to_atm(valuation_date, curve)\n",
    "swap5y10y.set_fixed_rate_to_atm(valuation_date, curve)\n",
    "steep_fwd_5_15 = {\n",
    "    'fwd0y5y':swap0y5y,\n",
    "    'fwd5y10y':swap5y10y,\n",
    "    }\n"
   ]
  },
  {
   "cell_type": "code",
   "execution_count": null,
   "metadata": {},
   "outputs": [],
   "source": [
    "\n",
    "# Fly using spot swaps\n",
    "swap9y = IborSwap(settlement_date, \"9Y\", SwapTypes.PAY, 1*g_percent, fixedFreqType, fixedDCCType, cal_type=cal, notional = 10_000)\n",
    "swap10y = IborSwap(settlement_date, \"10Y\", SwapTypes.RECEIVE, 1*g_percent, fixedFreqType, fixedDCCType, cal_type=cal, notional = 20_000)\n",
    "swap11y = IborSwap(settlement_date, \"11y\", SwapTypes.PAY, 1*g_percent, fixedFreqType, fixedDCCType, cal_type=cal, notional = 10000)\n",
    "\n",
    "fly_spot_9_10_11 = {\n",
    "    'spot9y' : swap9y,\n",
    "    'spot10y' : swap10y,\n",
    "    'spot11y' : swap11y,\n",
    "}    "
   ]
  },
  {
   "cell_type": "code",
   "execution_count": 23,
   "metadata": {},
   "outputs": [],
   "source": [
    "# Fly using forward swaps\n",
    "swap9y1y = IborSwap(settlement_date.add_tenor('9Y'), \"1Y\", SwapTypes.RECEIVE, 1*g_percent, fixedFreqType, fixedDCCType, cal_type=cal, notional = 10_000)\n",
    "swap10y1y = IborSwap(settlement_date.add_tenor('10Y'), \"1Y\", SwapTypes.PAY, 1*g_percent, fixedFreqType, fixedDCCType, cal_type=cal, notional = 10_000)\n",
    "\n",
    "fly_fwd_9y1y_10y1y = {\n",
    "    'fwd9y1y' : swap9y1y,\n",
    "    'fwd10y1y' : swap10y1y,\n",
    "}\n",
    "for s in fly_fwd_9y1y_10y1y.values():\n",
    "    s.set_fixed_rate_to_atm(valuation_date, curve)"
   ]
  },
  {
   "cell_type": "markdown",
   "metadata": {},
   "source": [
    "### Calculate rolldown and carry"
   ]
  },
  {
   "cell_type": "code",
   "execution_count": null,
   "metadata": {},
   "outputs": [],
   "source": [
    "trade_to_use = fly_spot_9_10_11 # outrights # fly_spot_9_10_11 # fly_fwd_9y1y_10y1y# fly_spot_9_10_11\n",
    "rolldown_tenor = '1Y'\n",
    "last_date = swaps[-1].maturity_dt\n",
    "risk_res = re.carry_rolldown_report(\n",
    "    curve, grid_last_date = last_date, grid_bucket_tenor = rolldown_tenor, \n",
    "    trades = trade_to_use.values(), trade_labels=list(trade_to_use.keys()), )\n",
    "df_roll = risk_res[1]\n",
    "df_roll"
   ]
  },
  {
   "cell_type": "code",
   "execution_count": null,
   "metadata": {},
   "outputs": [],
   "source": [
    "df_roll[[c for c in df_roll.columns if c.startswith('ROLL')]].sum()"
   ]
  },
  {
   "cell_type": "code",
   "execution_count": null,
   "metadata": {},
   "outputs": [],
   "source": [
    "dv01_cols = [c for c in df_roll.columns if c.startswith('DV01')]\n",
    "nonzero_dv01 = (df_roll[dv01_cols] != 0).any(axis = 1)\n",
    "df_dv01 = df_roll.loc[nonzero_dv01]\n",
    "df_dv01.plot.bar('bucket_label', dv01_cols)"
   ]
  },
  {
   "cell_type": "code",
   "execution_count": null,
   "metadata": {},
   "outputs": [],
   "source": [
    "df_roll.plot(x='maturity_date', y='market_rate', marker = '.')"
   ]
  },
  {
   "attachments": {},
   "cell_type": "markdown",
   "metadata": {},
   "source": [
    "### Wrap the above into a function"
   ]
  },
  {
   "cell_type": "code",
   "execution_count": null,
   "metadata": {},
   "outputs": [],
   "source": [
    "def plot_metric_for_strategy(curve, strategy, metric = 'DV01'):\n",
    "    rolldown_tenor = '1Y'\n",
    "    last_date = curve.used_swaps[-1].maturity_dt\n",
    "    risk_res = re.carry_rolldown_report(\n",
    "    curve, grid_last_date = last_date, grid_bucket_tenor = rolldown_tenor, \n",
    "    trades = strategy.values(), trade_labels=list(strategy.keys()), )\n",
    "    df_roll = risk_res[1]\n",
    "\n",
    "    metric_cols = [c for c in df_roll.columns if c.startswith(metric)]\n",
    "    nonzero_metric = (df_roll[metric_cols] != 0).any(axis = 1)\n",
    "    df_metric = df_roll.loc[nonzero_metric]\n",
    "    df_metric.plot.bar('bucket_label', metric_cols)\n",
    "\n",
    "    print(df_metric[metric_cols].sum())\n",
    "\n",
    "#Test (with somewhat convoluted way to just get first 3 outrights)\n",
    "plot_metric_for_strategy(curve, dict(list(outrights.items())[:3]), metric='DV01')\n"
   ]
  },
  {
   "cell_type": "code",
   "execution_count": null,
   "metadata": {},
   "outputs": [],
   "source": [
    "metric_to_plot = 'DV01'\n",
    "# strategies to plot\n",
    "strategies_to_plot = [\n",
    "#    steep_spot_5_15,\n",
    "#    steep_fwd_5_15,\n",
    "    fly_spot_9_10_11,\n",
    "    fly_fwd_9y1y_10y1y,\n",
    "]\n",
    "\n",
    "for s in strategies_to_plot:\n",
    "    plot_metric_for_strategy(curve, s,  metric=metric_to_plot)"
   ]
  }
 ],
 "metadata": {
  "kernelspec": {
   "display_name": "fpy_venv",
   "language": "python",
   "name": "python3"
  },
  "language_info": {
   "codemirror_mode": {
    "name": "ipython",
    "version": 3
   },
   "file_extension": ".py",
   "mimetype": "text/x-python",
   "name": "python",
   "nbconvert_exporter": "python",
   "pygments_lexer": "ipython3",
   "version": "3.11.4"
  }
 },
 "nbformat": 4,
 "nbformat_minor": 4
}
