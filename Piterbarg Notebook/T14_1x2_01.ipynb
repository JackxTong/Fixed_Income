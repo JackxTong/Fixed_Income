{
 "cells": [
  {
   "cell_type": "code",
   "execution_count": 1,
   "metadata": {},
   "outputs": [],
   "source": [
    "%load_ext autoreload\n",
    "%autoreload 2"
   ]
  },
  {
   "cell_type": "code",
   "execution_count": 2,
   "metadata": {},
   "outputs": [],
   "source": [
    "import numpy as np\n",
    "import pandas as pd\n",
    "import matplotlib.pyplot as plt"
   ]
  },
  {
   "cell_type": "code",
   "execution_count": null,
   "metadata": {},
   "outputs": [],
   "source": [
    "# Set up simple hike scenarios and their market, and subjective, probabilities\n",
    "dfp = pd.DataFrame.from_dict({'scen':[25,50,75], 'mkt':[0.2,0.2,0.6], 'subj':[0.1, 0.9, 0.0]})\n",
    "dfp"
   ]
  },
  {
   "cell_type": "code",
   "execution_count": null,
   "metadata": {},
   "outputs": [],
   "source": [
    "# Calculate market and subjective forwards\n",
    "fwds = dfp[['mkt','subj']].mul(dfp['scen'], axis=0).sum()\n",
    "fwds"
   ]
  },
  {
   "cell_type": "code",
   "execution_count": 5,
   "metadata": {},
   "outputs": [],
   "source": [
    "# set up a 1x2 strategy and calculate its market and subjective value\n",
    "s1 = 31.25\n",
    "s2=50\n",
    "one_two = lambda x: np.maximum(x-s1,0) - 2*np.maximum(x-s2, 0)\n",
    "one_two_val = dfp[['mkt','subj']].mul(dfp['scen'].apply(one_two), axis=0).sum()"
   ]
  },
  {
   "cell_type": "code",
   "execution_count": null,
   "metadata": {},
   "outputs": [],
   "source": [
    "# Plot the two strategies\n",
    "xs = np.linspace(20,81,101)\n",
    "plt.plot(xs, one_two(xs), label = '1x2')\n",
    "plt.plot(dfp['scen'], one_two(dfp['scen']), 'o', color = 'b')\n",
    "plt.plot(xs, fwds['mkt']-xs, label = 'forward')\n",
    "plt.plot(dfp['scen'], fwds['mkt']-dfp['scen'], 'o', color = 'orange')\n",
    "plt.legend(loc = 'best')\n",
    "plt.xlabel('rate (bp)')\n",
    "plt.xlabel('payoff')\n",
    "plt.plot()"
   ]
  },
  {
   "cell_type": "code",
   "execution_count": null,
   "metadata": {},
   "outputs": [],
   "source": [
    "# Print the results\n",
    "\n",
    "print(f\"Market cost and expected (subjective measure) payoff from forwards strategy: {fwds['mkt'] - fwds.values}\")\n",
    "print(f\"profit of forwards strategy: {-fwds['subj'] + fwds['mkt']}\\n\")\n",
    "\n",
    "\n",
    "print(f\"Market cost and expected (subjective measure) payoff from 1x2 strategy: {one_two_val.values}\")\n",
    "print(f\"profit of 1x2 strategy: {one_two_val['subj'] - one_two_val['mkt']}\")\n"
   ]
  },
  {
   "cell_type": "code",
   "execution_count": null,
   "metadata": {},
   "outputs": [],
   "source": []
  }
 ],
 "metadata": {
  "kernelspec": {
   "display_name": "base",
   "language": "python",
   "name": "python3"
  },
  "language_info": {
   "codemirror_mode": {
    "name": "ipython",
    "version": 3
   },
   "file_extension": ".py",
   "mimetype": "text/x-python",
   "name": "python",
   "nbconvert_exporter": "python",
   "pygments_lexer": "ipython3",
   "version": "3.8.8"
  },
  "orig_nbformat": 4
 },
 "nbformat": 4,
 "nbformat_minor": 2
}
