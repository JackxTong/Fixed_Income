{
 "cells": [
  {
   "cell_type": "code",
   "execution_count": 1,
   "metadata": {
    "metadata": {}
   },
   "outputs": [],
   "source": [
    "%load_ext autoreload\n",
    "%autoreload 2"
   ]
  },
  {
   "cell_type": "code",
   "execution_count": 2,
   "metadata": {
    "metadata": {}
   },
   "outputs": [],
   "source": [
    "import os\n",
    "import numpy as np\n",
    "import cvxpy as cp\n",
    "import pandas as pd\n",
    "from matplotlib import cm\n",
    "import matplotlib.pyplot as plt\n",
    "\n",
    "from scipy import stats \n",
    "from scipy import interpolate\n",
    "from sprd import grids, opt, bestof"
   ]
  },
  {
   "cell_type": "code",
   "execution_count": 3,
   "metadata": {
    "metadata": {}
   },
   "outputs": [],
   "source": [
    "np.set_printoptions(suppress=True)\n",
    "np.set_printoptions(precision = 4)\n",
    "%matplotlib widget"
   ]
  },
  {
   "cell_type": "code",
   "execution_count": 4,
   "metadata": {
    "metadata": {}
   },
   "outputs": [],
   "source": [
    "# set up the grid for X and Y, and sgrid for the index\n",
    "npts = 101\n",
    "fwd_for_grid = 0.0\n",
    "std_for_grid = 1.0\n",
    "n_std = 3\n",
    "xgrid = grids.gen_grid(npts, fwd = fwd_for_grid, stdev=std_for_grid, nstd = n_std)\n",
    "sx,sy = np.meshgrid(xgrid,xgrid,indexing = 'ij')\n",
    "sgrid = grids.gen_sgrid(xgrid)\n"
   ]
  },
  {
   "attachments": {},
   "cell_type": "markdown",
   "metadata": {},
   "source": [
    "### Calc or Load the data and optionally save it"
   ]
  },
  {
   "cell_type": "code",
   "execution_count": 5,
   "metadata": {},
   "outputs": [],
   "source": [
    "filename = 'data/data_16_1_best_of_calls_arbitrage.xls'\n",
    "load_data = False\n",
    "save_data = False\n",
    "test_plots = False\n",
    "\n",
    "x0 = 0\n",
    "y0 = 0\n",
    "\n",
    "if load_data:\n",
    "    xgrid, xdens, ydens, bdens,callsx, callsy, callsb = bestof.load_boc_calls_convert_to_densities(filename)\n",
    "    npts = len(xgrid)\n",
    "else:\n",
    "    xvol = 1.0\n",
    "    yvol = 0.75\n",
    "    xycor = 0.0\n",
    "    blend = 3\n",
    "    xdens,ydens,bdens, callsx, callsy, callsb = bestof.gen_modified_gauss_boc_densities(\n",
    "    xgrid,  x0,y0,xvol, yvol, xycor, blend = blend, from_cdf=True, test_plots = test_plots)\n",
    "\n",
    "if save_data:\n",
    "    bestof.save_boc_calls(xgrid, callsx, callsy, callsb, filename)\n"
   ]
  },
  {
   "cell_type": "markdown",
   "metadata": {},
   "source": [
    "### Check if the problem is feasible\n",
    "(unfeasible is good)"
   ]
  },
  {
   "cell_type": "code",
   "execution_count": null,
   "metadata": {
    "metadata": {}
   },
   "outputs": [],
   "source": [
    "\n",
    "\n",
    "# tolerance; equality makes this hard\n",
    "eps = 1e-6\n",
    "\n",
    "# 2d density\n",
    "x = cp.Variable((npts,npts))\n",
    "constraints = opt.get_boc_constraints(x, xdens, ydens, bdens, eps = eps)\n",
    "\n",
    "# obj = cp.Minimize(opt.get_objf_idx(x, xgrid, idx_strike=x0+y0))\n",
    "obj = cp.Maximize(opt.get_objf_idx(x, xgrid, idx_strike=x0+y0))\n",
    "# obj = cp.Maximize(opt.get_objf_idx(x, xgrid, idx_strike=x0+y0) - smooth_obj)\n",
    "prob = cp.Problem(obj, constraints)\n",
    "# res = prob.solve()\n",
    "res = prob.solve( solver = 'SCIPY', scipy_options = {'method':'highs'})\n",
    "pij = x.value\n",
    "print(prob.status)\n",
    "print(prob.value)"
   ]
  },
  {
   "cell_type": "code",
   "execution_count": 7,
   "metadata": {
    "metadata": {}
   },
   "outputs": [],
   "source": [
    "check_plots = False\n",
    "if check_plots:\n",
    "    pij = x.value\n",
    "    fig = plt.figure()\n",
    "    ax = fig.add_subplot(projection='3d')\n",
    "    ax.plot_surface(sx, sy, pij, alpha=1.0, cmap = 'Reds')\n",
    "\n",
    "    plt.xlabel('x')\n",
    "    plt.ylabel('y')\n",
    "    plt.title('Joint density')\n",
    "    plt.legend(loc = 'best')"
   ]
  },
  {
   "cell_type": "markdown",
   "metadata": {},
   "source": [
    "### Dual"
   ]
  },
  {
   "cell_type": "code",
   "execution_count": null,
   "metadata": {
    "metadata": {}
   },
   "outputs": [],
   "source": [
    "f = cp.Variable((npts,))\n",
    "g = cp.Variable(npts)\n",
    "h = cp.Variable(npts)\n",
    "dual_obj = cp.Maximize(f@xdens + g@ydens - h@bdens)\n",
    "\n",
    "dual_constraints = []\n",
    "dual_constraints.append(cp.abs(f) <= 1)\n",
    "dual_constraints.append(cp.abs(g) <= 1)\n",
    "dual_constraints.append(cp.abs(h) <= 10)\n",
    "\n",
    "for k in range(npts):\n",
    "    for i in range(npts):\n",
    "        for j in range(npts):\n",
    "            if max(i,j) == k:\n",
    "                dual_constraints.append(h[k] >= f[i] + g[j])\n",
    "                # dual_constraints.append(h[k] <= f[i] + g[j])\n",
    "\n",
    "\n",
    "\n",
    "dual_prob = cp.Problem(dual_obj, dual_constraints)\n",
    "\n",
    "# res = dual_prob.solve(solver=cp.ECOS)\n",
    "res = dual_prob.solve( solver = 'SCIPY', scipy_options = {'method':'highs'})\n",
    "print(dual_prob.status)\n",
    "print(dual_prob.value)\n"
   ]
  },
  {
   "cell_type": "code",
   "execution_count": null,
   "metadata": {
    "metadata": {}
   },
   "outputs": [],
   "source": [
    "# print values of the strategies\n",
    "print(\"Value of marginal strategy\", f.value@xdens + g.value@ydens)\n",
    "print(\"Value of bestof strategy\", h.value@bdens)"
   ]
  },
  {
   "cell_type": "code",
   "execution_count": null,
   "metadata": {
    "metadata": {}
   },
   "outputs": [],
   "source": [
    "plt.figure()\n",
    "plt.plot(xgrid, f.value, label = 'f')\n",
    "plt.plot(xgrid, g.value, '-.', label = 'g')\n",
    "plt.plot(xgrid, h.value, '-.', label = 'h')\n",
    "plt.legend(loc='best')\n",
    "plt.show()\n"
   ]
  },
  {
   "cell_type": "code",
   "execution_count": 11,
   "metadata": {
    "metadata": {}
   },
   "outputs": [],
   "source": [
    "#create 2D versions of the solutions and constraints for plotting\n",
    "\n",
    "# the grid\n",
    "sx,sy = np.meshgrid(xgrid,xgrid,indexing = 'ij')\n",
    "\n",
    "# the f and g functions\n",
    "sf,sg= np.meshgrid(f.value,g.value,indexing = 'ij')\n",
    "\n",
    "# This is the sum -- what we can achieve by trading in marginals only\n",
    "sfg = sf+sg\n",
    "\n",
    "# This is the payoff that is dominated by sf+sg, a function of the diagonals only\n",
    "sh = np.zeros((npts, npts))\n",
    "for i in range(npts):\n",
    "    for j in range(npts):\n",
    "        sh[i,j] = h.value[max(i,j)]\n"
   ]
  },
  {
   "cell_type": "code",
   "execution_count": null,
   "metadata": {
    "metadata": {}
   },
   "outputs": [],
   "source": [
    "\n",
    "step = 5\n",
    "fig2 = plt.figure()\n",
    "ax2 = fig2.add_subplot(projection='3d')\n",
    "# ax2.plot(sx, sy, sfg, alpha=0.7, cmap = 'YlGnBu', label = 'marginal payoffs')\n",
    "ax2.scatter(sx[::step,::step], sy[::step,::step], sh[::step,::step], marker = '.', alpha = 1.0, label = 'max payoff')\n",
    "surf = ax2.plot_surface(sx[::step,::step], sy[::step,::step], sfg[::step,::step], cmap = 'Reds', alpha=0.5, label = 'marginal payoffs')\n",
    "# ax2.plot_surface(sx, sy, sh, alpha=0.7, label = 'diagonal payoff')\n",
    "\n",
    "# some magic workaround for the legend() bug, see \n",
    "# https://stackoverflow.com/a/54994985/14551426\n",
    "# does not seem to work\n",
    "surf._facecolors2d = surf._facecolor3d\n",
    "surf._edgecolors2d = surf._edgecolor3d\n",
    "\n",
    "plt.legend(loc = 'upper right')\n",
    "plt.show()"
   ]
  },
  {
   "cell_type": "code",
   "execution_count": null,
   "metadata": {},
   "outputs": [],
   "source": []
  }
 ],
 "metadata": {
  "kernelspec": {
   "display_name": "base",
   "language": "python",
   "name": "python3"
  },
  "language_info": {
   "codemirror_mode": {
    "name": "ipython",
    "version": 3
   },
   "file_extension": ".py",
   "mimetype": "text/x-python",
   "name": "python",
   "nbconvert_exporter": "python",
   "pygments_lexer": "ipython3",
   "version": "3.8.8"
  }
 },
 "nbformat": 4,
 "nbformat_minor": 2
}
